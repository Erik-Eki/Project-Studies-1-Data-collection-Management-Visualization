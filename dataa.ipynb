{
 "cells": [
  {
   "cell_type": "code",
   "execution_count": 32,
   "metadata": {},
   "outputs": [
    {
     "name": "stdout",
     "output_type": "stream",
     "text": [
      "fetched\n",
      "       node_id           timestamp     x     y  z   q\n",
      "1         3200 2019-05-21 06:24:13   721  2827  0  86\n",
      "34        3200 2019-05-21 07:39:23   411  1710  0  19\n",
      "59        3200 2019-05-21 10:53:55   201  2705  0  72\n",
      "69        3200 2019-05-21 10:54:04   561  2924  0  57\n",
      "71        3200 2019-05-21 10:54:07   905  2795  0  65\n",
      "...        ...                 ...   ...   ... ..  ..\n",
      "99491     3200 2019-05-29 13:05:04  7318  2626  0  40\n",
      "99492     3200 2019-05-29 13:05:05  7322  2630  0  38\n",
      "99493     3200 2019-05-29 13:05:06  7324  2626  0  42\n",
      "99494     3200 2019-05-29 13:05:07  7332  2624  0  42\n",
      "99495     3200 2019-05-29 13:05:08  7335  2624  0  47\n",
      "\n",
      "[41319 rows x 6 columns]\n"
     ]
    }
   ],
   "source": [
    "mycursor = mydb.cursor(dictionary=True)\n",
    "mycursor.execute(\"SELECT node_id, COUNT(node_id) FROM SensorData   WHERE timestamp > '2019-05-24 13:05:08.078133+00:00' AND timestamp < '2019-05-29 13:05:08.078133+00:00'  AND x > 0  AND X < 10406 AND y < 5220 AND y > 0 AND   q <100 AND z = 0 GROUP BY node_id \");\n",
    "#mycursor.execute(\"SELECT node_id, timestamp, x,y,z,q FROM SensorData WHERE node_id = 3200 AND x > 0  AND X < 10406 AND y < 5220 AND y > 0 AND q < 100 LIMIT 100000\");\n",
    "print(\"fetched\")\n",
    "nodes = pd.DataFrame(mycursor.fetchall())\n",
    "print(nodes)"
   ]
  },
  {
   "cell_type": "code",
   "execution_count": 98,
   "metadata": {},
   "outputs": [
    {
     "name": "stdout",
     "output_type": "stream",
     "text": [
      "Requirement already satisfied: mysql-connector in /opt/conda/lib/python3.7/site-packages (2.2.9)\n"
     ]
    }
   ],
   "source": [
    "# Run this code if you get errors with missing requirements\n",
    "import sys\n",
    "import numpy as np\n",
    "!{sys.executable} -m pip install mysql-connector\n",
    "import pandas as pd\n",
    "import mysql.connector\n",
    "import statistics\n",
    "mydb = mysql.connector.connect(\n",
    "  host=\"iiwari-mariadb-server\",\n",
    "  user=\"root\",\n",
    "  passwd=\"d41k4Duu\",\n",
    "  database=\"iiwari_org\"\n",
    ")"
   ]
  },
  {
   "cell_type": "code",
   "execution_count": null,
   "metadata": {},
   "outputs": [],
   "source": [
    "# Check database contents\n",
    "mycursor = mydb.cursor(dictionary=True)\n",
    "mycursor.execute(\"SELECT node_id, timestamp, x,y,z,q FROM SensorData WHERE (node_id = 3200 OR node_id = 45300)  AND timestamp > '2019-08-20 13:05:08.078133+00:00' AND timestamp < '2019-08-29 13:05:08.078133+00:00'  AND x > 0  AND X < 10406 AND y < 5220 AND y > 0 AND   q <100 AND z = 0 \");\n",
    "#mycursor.execute(\"SELECT node_id, timestamp, x,y,z,q FROM SensorData WHERE node_id = 3200 AND x > 0  AND X < 10406 AND y < 5220 AND y > 0 AND q < 100 LIMIT 100000\");\n",
    "print(\"fetched\")\n",
    "df = pd.DataFrame(mycursor.fetchall())\n",
    "df['timestamp'] = df['timestamp'].astype(str)\n",
    "df['timestamp'] = df['timestamp'].str.slice(2, -7)\n",
    "\n",
    "df['timestamp'] = df['timestamp'].astype('datetime64[ns]')\n",
    "df['timestamp'] = pd.Series(df['timestamp']).dt.round(\"S\")\n",
    "df\n",
    "\n"
   ]
  },
  {
   "cell_type": "code",
   "execution_count": null,
   "metadata": {},
   "outputs": [],
   "source": [
    "import matplotlib.pyplot as plt\n",
    "img1 = plt.imread(\"pic.png\")\n",
    "fig, ax = plt.subplots()\n",
    "#ax.imshow(img, extent=[0, 10406,  5220,0])\n",
    "ax.imshow(img1, extent=[-800, 10400, 5400, -200])#ax.imshow(img)\n",
    "#ax.plot(df.x, df.y , linewidth=2, color='firebrick')\n",
    "df = df.drop(df[(df.x < 1850.0) & (df.y > 3000.0)].index)\n",
    "ax.plot(df.x, df.y , marker='o', linestyle='dashed', linewidth=0.2, markersize=3, color='firebrick')\n",
    "print(len(df.x))\n"
   ]
  },
  {
   "cell_type": "code",
   "execution_count": null,
   "metadata": {},
   "outputs": [],
   "source": [
    "prev = 0\n",
    "val = 0\n",
    "def calc_velocity(time_start, time_end):\n",
    "    #diff_time = time_start - time_end\n",
    "    diff_time = np.datetime64(time_start) - np.datetime64(time_end)\n",
    "    diff_time.item().total_seconds()\n",
    "    diff_time = diff_time / np.timedelta64(1, 's')\n",
    "    if(diff_time > 0.1):\n",
    "        return diff_time\n",
    "    else:\n",
    "        return 1\n",
    "x = 0\n",
    "for i in range(len(df.x)):\n",
    "   # print(abs(df.iloc[i+1, 3] - abs(df.iloc[i, 3])))\n",
    "    #print(abs(df.index[i+1]) - abs(df.index[i]))\n",
    "    if(i < len(df.x)):\n",
    "        #print(i , \" \" , x, \" \", len(df.x))\n",
    "        value1 = calc_velocity(df.iloc[i-x, 1], df.iloc[i-(1+x), 1])\n",
    "        value2 = int((abs(df.iloc[i-x, 2])) - prev)\n",
    "        val =  value2 / value1\n",
    "        if (val > 60 or value2 > 100):\n",
    "            df.drop([df.index[i-x]], axis = 0, inplace = True)\n",
    "            prev = abs(df.iloc[i-x, 2])\n",
    "            x +=1\n",
    "        else:\n",
    "            prev = abs(df.iloc[i-x, 2])\n",
    "x = 0\n",
    "for i in range(len(df.y)):\n",
    "   # print(abs(df.iloc[i+1, 3] - abs(df.iloc[i, 3])))\n",
    "    #print(abs(df.index[i+1]) - abs(df.index[i]))\n",
    "    if(i < len(df.y)):\n",
    "        value1 = calc_velocity(df.iloc[i-x, 1], df.iloc[i-(1+x), 1])\n",
    "        value2 = int((abs(df.iloc[i-x, 3]))-prev)\n",
    "        val = value2 / value1    \n",
    "        if (val > 60 or value2 > 100):\n",
    "            df.drop([df.index[i-x]], axis = 0)\n",
    "            prev = abs(df.iloc[i-x , 3])\n",
    "            x +=1\n",
    "        else:\n",
    "            prev = abs(df.iloc[i-x, 3])\n",
    "    #print(prev)\n",
    "    #if (abs(df.iloc[i+1, 3] - abs(df.iloc[i, 3]))) > 400:\n",
    "        #print(\"We int\")\n",
    "        \n",
    "print(len(df.x))"
   ]
  },
  {
   "cell_type": "code",
   "execution_count": null,
   "metadata": {},
   "outputs": [],
   "source": [
    "import matplotlib.pyplot as plt\n",
    "img1 = plt.imread(\"pic.png\")\n",
    "fig, ax = plt.subplots()\n",
    "#ax.imshow(img, extent=[0, 10406,  5220,0])\n",
    "ax.imshow(img1, extent=[-800, 10400, 5400, -200])\n",
    "#ax.imshow(img)\n",
    "plt.rcParams['figure.figsize'] = 10, 5\n",
    "#ax.plot(df.x, df.y , linewidth=1, color='firebrick')\n",
    "ax.plot(df.x, df.y , marker='o', linestyle='dashed', linewidth=0.2, markersize=3, color='firebrick')\n",
    "print(len(df.x))"
   ]
  },
  {
   "cell_type": "code",
   "execution_count": null,
   "metadata": {},
   "outputs": [],
   "source": [
    "#devx = [df.iloc[i + 1, 2] - df.iloc[i, 2] for i in range(len(df.x)-1)]\n",
    "devx = []\n",
    "for i in range(len(df.x)):\n",
    "    value1 = calc_velocity(df.iloc[i, 1], df.iloc[i-1, 1])\n",
    "    val = int((abs(df.iloc[i, 2]) - prev)) / value1\n",
    "    #print(val)\n",
    "    devx.append(val)\n",
    "    prev = abs(df.iloc[i, 2])\n",
    "\n",
    "xmean = np.mean(devx, axis=0)\n",
    "xsd = np.std(devx, axis=0)\n",
    "print(xmean)\n",
    "print(xsd)\n",
    "i = 0\n",
    "final_list = [x for x in df.x if (abs(x) > xmean - 0.5 * xsd)]\n",
    "#final_list = [x for x in final_list if (x < xmean + 0. * xsd)]\n",
    "for x in final_list:\n",
    "    if(x < xmean + 6.75 * xsd):\n",
    "        df.drop([df.index[i]], axis = 0, inplace = True)\n",
    "        i -= 1\n",
    "    i += 1\n",
    "i = 0\n",
    "#devy = [df.iloc[i + 1, 3] - df.iloc[i, 3] for i in range(len(df.y)-1)]\n",
    "devy = []\n",
    "for i in range(len(df.y)):\n",
    "    value1 = calc_velocity(df.iloc[i, 1], df.iloc[i-1, 1])\n",
    "    val = int((abs(df.iloc[i, 3]) - prev)) / value1\n",
    "    #print(val)\n",
    "    devy.append(val)\n",
    "    prev = abs(df.iloc[i, 3])\n",
    "ymean = np.mean(devy, axis=0)\n",
    "ysd = np.std(devy, axis=0)\n",
    "print(ymean)\n",
    "print(ysd)\n",
    "final_list1 = [y for y in df.y if (abs(y) > ymean - 0.5 * ysd)]\n",
    "#final_list = [y for y in final_list if (y < ymean + 0.2 * ysd)]\n",
    "i = 0\n",
    "print(len(df.y))\n",
    "for y in final_list1:\n",
    "    if(y < ymean + 6.75 * ysd):\n",
    "        df.drop([df.index[i]], axis = 0, inplace = True)\n",
    "        i -= 1\n",
    "    i += 1\n",
    "    "
   ]
  },
  {
   "cell_type": "code",
   "execution_count": null,
   "metadata": {},
   "outputs": [],
   "source": [
    "import matplotlib.pyplot as plt\n",
    "img1 = plt.imread(\"pic.png\")\n",
    "fig, ax = plt.subplots()\n",
    "#ax.imshow(img, extent=[-300, 10406,  5220,0])\n",
    "ax.imshow(img1, extent=[-800, 10400, 5400, -200])#ax.imshow(img)\n",
    "#ax.plot(df.x, df.y , linewidth=1, color='firebrick')\n",
    "ax.plot(df.x, df.y , marker='o', linestyle='dashed', linewidth=0.2, markersize=3, color='firebrick')\n",
    "print(len(df.x))"
   ]
  },
  {
   "cell_type": "code",
   "execution_count": null,
   "metadata": {},
   "outputs": [],
   "source": [
    "import matplotlib.cm as cm\n",
    "from scipy.ndimage.filters import gaussian_filter\n",
    "\n",
    "\n",
    "def myplot(x, y, s, bins=1000):\n",
    "    heatmap, xedges, yedges = np.histogram2d(x, y, bins=bins)\n",
    "    heatmap = gaussian_filter(heatmap, sigma=s)\n",
    "\n",
    "    extent = [xedges[-1], xedges[0], yedges[-1], yedges[0]]\n",
    "    return heatmap.T, extent\n",
    "\n",
    "\n",
    "fig, axs = plt.subplots(2, 2)\n",
    "\n",
    "# Generate some test data\n",
    "x = df.x\n",
    "y = df.y\n",
    "sigmas = [0, 20, 32, 64]\n",
    "for ax, s in zip(axs.flatten(), sigmas):\n",
    "    if s == 0:\n",
    "        ax.imshow(img1, extent=[-800, 10400, 5400, -200])\n",
    "        ax.plot(x, y, 'k.', markersize=5)\n",
    "        ax.set_title(\"Scatter plot\")\n",
    "    else:\n",
    "        img, extent = myplot(x, y, s)\n",
    "        #ax.imshow(img1, extent=[-800, 10400, 5400, -200])#ax.imshow(img)\n",
    "        ax.imshow(img, extent=[-800, 10400, 5400, -200], origin='upper', cmap=cm.jet)\n",
    "        ax.set_title(\"Smoothing with  $\\sigma$ = %d\" % s)\n",
    "\n",
    "plt.show()"
   ]
  },
  {
   "cell_type": "code",
   "execution_count": null,
   "metadata": {},
   "outputs": [],
   "source": [
    "import seaborn as sns\n",
    "ax = sns.kdeplot(x, bw=.15)"
   ]
  },
  {
   "cell_type": "code",
   "execution_count": 61,
   "metadata": {},
   "outputs": [
    {
     "data": {
      "image/png": "[encoded data removed]",
      "text/plain": [
       "<Figure size 720x360 with 1 Axes>"
      ]
     },
     "metadata": {
      "needs_background": "light"
     },
     "output_type": "display_data"
    }
   ],
   "source": [
    "nodes = nodes.rename(columns={'COUNT(node_id)': 'amount'})\n",
    "objects = nodes.node_id\n",
    "y_pos = np.arange(len(objects))\n",
    "performance = nodes.amount\n",
    "\n",
    "plt.barh(y_pos, performance, align='center', alpha=0.5)\n",
    "plt.yticks(y_pos, objects)\n",
    "plt.xlabel('Määrä')\n",
    "plt.title('Kärrien käyttömäärä')\n",
    "\n",
    "plt.show()"
   ]
  },
  {
   "cell_type": "code",
   "execution_count": 94,
   "metadata": {},
   "outputs": [
    {
     "name": "stdout",
     "output_type": "stream",
     "text": [
      "18.438485934258416\n",
      "26.321612829249865\n",
      "14.340906599159364\n",
      "28.035859646405584\n",
      "70818\n"
     ]
    }
   ],
   "source": [
    "#devx = [df.iloc[i + 1, 2] - df.iloc[i, 2] for i in range(len(df.x)-1)]\n",
    "devx = []\n",
    "for i in range(len(df.x)):\n",
    "    value1 = calc_velocity(df.iloc[i, 1], df.iloc[i-1, 1])\n",
    "    val = int((abs(df.iloc[i, 2]) - prev)) / value1\n",
    "    #print(val)\n",
    "    devx.append(abs(val))\n",
    "    prev = abs(df.iloc[i, 2])\n",
    "\n",
    "xmean = np.mean(devx, axis=0)\n",
    "xsd = np.std(devx, axis=0)\n",
    "print(xmean)\n",
    "print(xsd)\n",
    "i = 0\n",
    "final_list = [x for x in df.x if (abs(x) > xmean - 0.5 * xsd)]\n",
    "#final_list = [x for x in final_list if (x < xmean + 0. * xsd)]\n",
    "for x in final_list:\n",
    "    if(x < xmean + 0.001 * xsd):\n",
    "        df.drop([df.index[i]], axis = 0, inplace = True)\n",
    "        i -= 1\n",
    "    i += 1\n",
    "i = 0\n",
    "#devy = [df.iloc[i + 1, 3] - df.iloc[i, 3] for i in range(len(df.y)-1)]\n",
    "devy = []\n",
    "for i in range(len(df.y)):\n",
    "    value1 = calc_velocity(df.iloc[i, 1], df.iloc[i-1, 1])\n",
    "    val = int((abs(df.iloc[i, 3]) - prev)) / value1\n",
    "    #print(val)\n",
    "    devy.append(abs(val))\n",
    "    prev = abs(df.iloc[i, 3])\n",
    "ymean = np.mean(devy, axis=0)\n",
    "ysd = np.std(devy, axis=0)\n",
    "print(ymean)\n",
    "print(ysd)\n",
    "final_list1 = [y for y in df.y if (abs(y) > ymean - 0.5 * ysd)]\n",
    "#final_list = [y for y in final_list if (y < ymean + 0.2 * ysd)]\n",
    "i = 0\n",
    "print(len(df.y))\n",
    "for y in final_list1:\n",
    "    if(y < ymean + 0.001 * ysd):\n",
    "        df.drop([df.index[i]], axis = 0, inplace = True)\n",
    "        i -= 1\n",
    "    i += 1\n",
    "    "
   ]
  },
  {
   "cell_type": "code",
   "execution_count": null,
   "metadata": {},
   "outputs": [],
   "source": [
    "prevx = 0\n",
    "#resy = [df.iloc[i + 1, 3] - df.iloc[i, 3] for i in range(len(df.y)-1)] \n",
    "devx = [df.iloc[i + 1, 3] - df.iloc[i, 3] for i in range(len(df.x)-1)]\n",
    "#devx = statistics.stdev(df.x)\n",
    "resx = [df.iloc[i + 1, 2] - df.iloc[i, 2] for i in range(len(df.x)-1)] \n",
    "i = 0\n",
    "for cat,date,x,y,z,q in df.values:\n",
    "    #print(abs(resx[i-1]))\n",
    "    if(abs(resx[i-1]) < 1):\n",
    "        df.drop([df.index[i-1]], axis = 0, inplace = True)\n",
    "        i -= 1\n",
    "    i += 1\n",
    "\n",
    "prevy = 0\n",
    "resy = [df.iloc[i + 1, 3] - df.iloc[i, 3] for i in range(len(df.y)-1)] \n",
    "i = 0\n",
    "\n",
    "for cat,date,x,y,z,q in df.values:\n",
    "    if(abs(resy[i-1]) < 1):\n",
    "        df.drop([df.index[i-1]], axis = 0, inplace = True)\n",
    "        i -= 1\n",
    "    i += 1\n"
   ]
  },
  {
   "cell_type": "code",
   "execution_count": null,
   "metadata": {},
   "outputs": [],
   "source": [
    "xmean = np.mean(df.x, axis=0)\n",
    "xsd = np.std(df.x, axis=0)\n",
    "ymean = np.mean(df.y, axis=0)\n",
    "ysd = np.std(df.y, axis=0)\n",
    "\n",
    "#final_list = [(int((x for x  in df.x if (x > xmean - 0.21 * xsd))), int((y for y in df.y if (y > ymean - 0.21 * ysd))))]\n",
    "#final_list = [(x,y) for cat,date,x,y,z,q in df.values: if((x > xmean - 0.21 * xsd) and (y > ymean - 0.21 * ysd))]\n",
    "final_list = []\n",
    "for cat,date,x,y,z,q in df.values:\n",
    "    if((x > xmean - 0.2 * xsd) or (y > ymean - 0.2 * ysd)):\n",
    "        final_list.append([x,y])\n",
    "print(len(final_list))\n",
    "i = 0\n",
    "for x, y in final_list:\n",
    "    if((x < mean + 0.2 * sd) and (y < mean + 0.2 * sd)):\n",
    "        df.drop([df.index[i]], axis = 0, inplace = True)\n",
    "        i -= 1\n",
    "    i += 1"
   ]
  },
  {
   "cell_type": "code",
   "execution_count": null,
   "metadata": {},
   "outputs": [],
   "source": [
    "resy = [df.iloc[i + 1, 3] - df.iloc[i, 3] for i in range(len(df.y)-1)] \n",
    "#resy = df.y['3']-df.y['2']\n",
    "#resy = df.iloc[1,3] - df.iloc[0,3]\n",
    "prevy = 0\n",
    "for y in resy:\n",
    "    #print(abs(y-prevy))\n",
    "    #print(y)\n",
    "    prevy = y\n",
    "def cal_average(num):\n",
    "    sum_num = 0\n",
    "    for t in num:\n",
    "        sum_num = sum_num + t           \n",
    "\n",
    "    avg = sum_num / len(num)\n",
    "    return avg\n",
    "\n",
    "print(\"The average is\", cal_average(resy))\n"
   ]
  },
  {
   "cell_type": "code",
   "execution_count": null,
   "metadata": {},
   "outputs": [],
   "source": []
  }
 ],
 "metadata": {
  "kernelspec": {
   "display_name": "Python 3",
   "language": "python",
   "name": "python3"
  },
  "language_info": {
   "codemirror_mode": {
    "name": "ipython",
    "version": 3
   },
   "file_extension": ".py",
   "mimetype": "text/x-python",
   "name": "python",
   "nbconvert_exporter": "python",
   "pygments_lexer": "ipython3",
   "version": "3.7.6"
  }
 },
 "nbformat": 4,
 "nbformat_minor": 4
}
