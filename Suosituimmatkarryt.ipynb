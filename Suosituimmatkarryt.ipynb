{
 "cells": [
  {
   "cell_type": "code",
   "execution_count": 2,
   "metadata": {},
   "outputs": [
    {
     "name": "stdout",
     "output_type": "stream",
     "text": [
      "Requirement already satisfied: mysql-connector in /opt/conda/lib/python3.7/site-packages (2.2.9)\n"
     ]
    }
   ],
   "source": [
    "# Run this code if you get errors with missing requirements\n",
    "import sys\n",
    "!{sys.executable} -m pip install mysql-connector\n",
    "\n",
    "import pandas as pd\n",
    "import mysql.connector\n",
    "\n",
    "mydb = mysql.connector.connect(\n",
    "  host=\"iiwari-mariadb-server\",\n",
    "  user=\"root\",\n",
    "  passwd=\"d41k4Duu\",\n",
    "  database=\"iiwari_org\"\n",
    ")\n",
    "\n"
   ]
  },
  {
   "cell_type": "code",
   "execution_count": 3,
   "metadata": {},
   "outputs": [
    {
     "name": "stdout",
     "output_type": "stream",
     "text": [
      "    node_id  COUNT(node_id)                            timestamp\n",
      "0      3200           54824  b'2019-05-24 13:18:02.994616+00:00'\n",
      "1      3224           11449  b'2019-05-24 15:40:09.994598+00:00'\n",
      "2      3240            1879   b'2019-05-25 06:39:14.99468+00:00'\n",
      "3     51719           32469  b'2019-05-24 16:18:18.994673+00:00'\n",
      "4     51735          102006  b'2019-05-25 06:38:44.994583+00:00'\n",
      "5     51751           45886  b'2019-05-24 13:05:08.987771+00:00'\n",
      "6     51850          104681  b'2019-05-25 05:08:54.995013+00:00'\n",
      "7     51866          113297  b'2019-05-24 13:06:52.995091+00:00'\n",
      "8     51889          268178  b'2019-05-24 13:05:31.995048+00:00'\n",
      "9     51968           25528  b'2019-05-24 13:17:21.994477+00:00'\n",
      "10    51976           66253  b'2019-05-24 13:05:08.987162+00:00'\n",
      "11    51992            1325  b'2019-05-25 06:25:51.994608+00:00'\n",
      "12    52003           13915  b'2019-05-25 06:40:26.994632+00:00'\n",
      "13    52008               1  b'2019-05-28 09:14:51.995571+00:00'\n",
      "14    52023              59  b'2019-05-24 14:19:46.991544+00:00'\n",
      "15    52099           96707  b'2019-05-24 13:13:02.994582+00:00'\n",
      "16    52535          130067  b'2019-05-24 13:05:29.987097+00:00'\n",
      "17    53011           74043   b'2019-05-24 13:15:31.99536+00:00'\n",
      "18    53130          201303  b'2019-05-24 16:21:17.994677+00:00'\n",
      "19    53888               1  b'2019-05-24 22:19:10.994551+00:00'\n",
      "20    53924           18429   b'2019-05-24 19:52:00.99486+00:00'\n",
      "21    53936           33171  b'2019-05-25 00:13:53.994617+00:00'\n",
      "22    54016          282277  b'2019-05-24 16:23:19.994682+00:00'\n"
     ]
    }
   ],
   "source": [
    "mycursor = mydb.cursor(dictionary=True)\n",
    "mycursor.execute(\"SELECT node_id, COUNT(node_id), timestamp FROM SensorData   WHERE timestamp > '2019-05-24 13:05:08.078133+00:00' AND timestamp < '2019-05-29 13:05:08.078133+00:00'  AND x > 0  AND X < 10406 AND y < 5220 AND y > 0 AND   q <100 AND z = 0 GROUP BY node_id \");\n",
    "database = pd.DataFrame(mycursor.fetchall())\n",
    "print(database)\n",
    "\n",
    "#COUNT ja GROUP BY jo hakuvaiheessa\n",
    "\n"
   ]
  },
  {
   "cell_type": "markdown",
   "metadata": {},
   "source": [
    "# Laitetaan timestamppi dataframeen ja poistetaan siitä turhat, lisätään kesä- ja talviajan huomionti"
   ]
  },
  {
   "cell_type": "code",
   "execution_count": 4,
   "metadata": {},
   "outputs": [
    {
     "name": "stdout",
     "output_type": "stream",
     "text": [
      "                   timestamp\n",
      "0  2019-05-24 16:18:02+03:00\n",
      "1  2019-05-24 18:40:09+03:00\n",
      "2  2019-05-25 09:39:14+03:00\n",
      "3  2019-05-24 19:18:18+03:00\n",
      "4  2019-05-25 09:38:44+03:00\n",
      "5  2019-05-24 16:05:08+03:00\n",
      "6  2019-05-25 08:08:54+03:00\n",
      "7  2019-05-24 16:06:52+03:00\n",
      "8  2019-05-24 16:05:31+03:00\n",
      "9  2019-05-24 16:17:21+03:00\n",
      "10 2019-05-24 16:05:08+03:00\n",
      "11 2019-05-25 09:25:51+03:00\n",
      "12 2019-05-25 09:40:26+03:00\n",
      "13 2019-05-28 12:14:51+03:00\n",
      "14 2019-05-24 17:19:46+03:00\n",
      "15 2019-05-24 16:13:02+03:00\n",
      "16 2019-05-24 16:05:29+03:00\n",
      "17 2019-05-24 16:15:31+03:00\n",
      "18 2019-05-24 19:21:17+03:00\n",
      "19 2019-05-25 01:19:10+03:00\n",
      "20 2019-05-24 22:52:00+03:00\n",
      "21 2019-05-25 03:13:53+03:00\n",
      "22 2019-05-24 19:23:19+03:00\n"
     ]
    }
   ],
   "source": [
    "database['timestamp'] = database['timestamp'].astype('str')\n",
    "database['timestamp'] = database['timestamp'].str.rstrip(\"'+00:00'\")\n",
    "database['timestamp'] = database['timestamp'].str.lstrip(\"b'\")\n",
    "database['timestamp'] = database['timestamp'].astype('datetime64[s]')\n",
    "\n",
    "database.timestamp = database.timestamp.dt.tz_localize('UTC')\n",
    "database.timestamp = database.timestamp.dt.tz_convert('Europe/Helsinki')\n",
    "\n",
    "nodet = pd.DataFrame()\n",
    "\n",
    "nodet['timestamp'] = database['timestamp']\n",
    "\n",
    "\n",
    "\n",
    "print(nodet)\n"
   ]
  },
  {
   "cell_type": "markdown",
   "metadata": {},
   "source": [
    "# Muutetaan timestamp datetime64 muotoon ja pyörristetään tunnin tarkkuudelle\n",
    "### Pudotetaan aukiolon ulkopuolella olevat ajat"
   ]
  },
  {
   "cell_type": "code",
   "execution_count": 6,
   "metadata": {},
   "outputs": [
    {
     "name": "stdout",
     "output_type": "stream",
     "text": [
      "             timestamp\n",
      "0  2019-05-24 13:00:00\n",
      "1  2019-05-24 16:00:00\n",
      "3  2019-05-24 16:00:00\n",
      "5  2019-05-24 13:00:00\n",
      "7  2019-05-24 13:00:00\n",
      "8  2019-05-24 13:00:00\n",
      "9  2019-05-24 13:00:00\n",
      "10 2019-05-24 13:00:00\n",
      "13 2019-05-28 09:00:00\n",
      "14 2019-05-24 14:00:00\n",
      "15 2019-05-24 13:00:00\n",
      "16 2019-05-24 13:00:00\n",
      "17 2019-05-24 13:00:00\n",
      "18 2019-05-24 16:00:00\n",
      "20 2019-05-24 20:00:00\n",
      "22 2019-05-24 16:00:00\n"
     ]
    }
   ],
   "source": [
    "nodet['timestamp'] = nodet['timestamp'].astype('datetime64[ns]')\n",
    "nodet['timestamp'] = pd.Series(nodet['timestamp']).dt.round(\"H\")\n",
    "\n",
    "nodet = nodet.drop(nodet[(nodet.timestamp.dt.hour > 21)].index)\n",
    "nodet = nodet.drop(nodet[(nodet.timestamp.dt.hour < 8)].index)\n",
    "\n",
    "\n",
    "\n",
    "print(nodet)"
   ]
  },
  {
   "cell_type": "markdown",
   "metadata": {},
   "source": [
    "# laitetaan node_id count ja prosenttiosuus kärreistä"
   ]
  },
  {
   "cell_type": "code",
   "execution_count": 8,
   "metadata": {},
   "outputs": [
    {
     "name": "stdout",
     "output_type": "stream",
     "text": [
      "             timestamp  node_id   count  prosenttiosuus\n",
      "0  2019-05-24 13:00:00     3200   54824        3.267714\n",
      "1  2019-05-24 16:00:00     3224   11449        0.682403\n",
      "3  2019-05-24 16:00:00    51719   32469        1.935273\n",
      "5  2019-05-24 13:00:00    51751   45886        2.734976\n",
      "7  2019-05-24 13:00:00    51866  113297        6.752921\n",
      "8  2019-05-24 13:00:00    51889  268178       15.984403\n",
      "9  2019-05-24 13:00:00    51968   25528        1.521563\n",
      "10 2019-05-24 13:00:00    51976   66253        3.948924\n",
      "13 2019-05-28 09:00:00    52008       1        0.000060\n",
      "14 2019-05-24 14:00:00    52023      59        0.003517\n",
      "15 2019-05-24 13:00:00    52099   96707        5.764096\n",
      "16 2019-05-24 13:00:00    52535  130067        7.752475\n",
      "17 2019-05-24 13:00:00    53011   74043        4.413237\n",
      "18 2019-05-24 16:00:00    53130  201303       11.998405\n",
      "20 2019-05-24 20:00:00    53924   18429        1.098437\n",
      "22 2019-05-24 16:00:00    54016  282277       16.824756\n"
     ]
    }
   ],
   "source": [
    "\n",
    "nodet['node_id'] = database['node_id']\n",
    "nodet['count'] = database['COUNT(node_id)']\n",
    "nodet['prosenttiosuus'] = 100 * (database['COUNT(node_id)'] / (database['COUNT(node_id)'].sum()))\n",
    "\n",
    "print(nodet)"
   ]
  },
  {
   "cell_type": "markdown",
   "metadata": {},
   "source": [
    "# Plotataan node_id ja prosenttiosuus"
   ]
  },
  {
   "cell_type": "code",
   "execution_count": 13,
   "metadata": {},
   "outputs": [
    {
     "data": {
      "text/plain": [
       "Text(0.5, 0, 'Kärryn numero')"
      ]
     },
     "execution_count": 13,
     "metadata": {},
     "output_type": "execute_result"
    },
    {
     "data": {
      "image/png": "[encoded data removed]",
      "text/plain": [
       "<Figure size 432x288 with 1 Axes>"
      ]
     },
     "metadata": {
      "needs_background": "light"
     },
     "output_type": "display_data"
    }
   ],
   "source": [
    "import pylab as plt\n",
    "\n",
    "nodet.groupby(\"node_id\").prosenttiosuus.mean().sort_values(ascending=False)[:23].plot.bar(title='Kärryjen esiintymistiheys ' + str(database.timestamp.dt.date.iloc[0]) + \" - \" + str(database.timestamp.dt.date.iloc[-1]))\n",
    "plt.ylabel('Prosenttiosuus %')\n",
    "plt.xlabel('Kärryn numero')"
   ]
  },
  {
   "cell_type": "code",
   "execution_count": null,
   "metadata": {},
   "outputs": [],
   "source": []
  }
 ],
 "metadata": {
  "kernelspec": {
   "display_name": "Python 3",
   "language": "python",
   "name": "python3"
  },
  "language_info": {
   "codemirror_mode": {
    "name": "ipython",
    "version": 3
   },
   "file_extension": ".py",
   "mimetype": "text/x-python",
   "name": "python",
   "nbconvert_exporter": "python",
   "pygments_lexer": "ipython3",
   "version": "3.7.6"
  }
 },
 "nbformat": 4,
 "nbformat_minor": 4
}
