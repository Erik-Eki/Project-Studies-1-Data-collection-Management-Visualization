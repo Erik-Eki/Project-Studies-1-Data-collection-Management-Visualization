{
 "cells": [
  {
   "cell_type": "code",
   "execution_count": 12,
   "metadata": {},
   "outputs": [
    {
     "name": "stdout",
     "output_type": "stream",
     "text": [
      "Requirement already satisfied: mysql-connector in /opt/conda/lib/python3.7/site-packages (2.2.9)\n"
     ]
    }
   ],
   "source": [
    "# Run this code if you get errors with missing requirements\n",
    "import sys\n",
    "!{sys.executable} -m pip install mysql-connector\n",
    "\n",
    "import pandas as pd\n",
    "import mysql.connector\n",
    "\n",
    "mydb = mysql.connector.connect(\n",
    "  host=\"iiwari-mariadb-server\",\n",
    "  user=\"root\",\n",
    "  passwd=\"d41k4Duu\",\n",
    "  database=\"iiwari_org\"\n",
    ")\n",
    "\n"
   ]
  },
  {
   "cell_type": "code",
   "execution_count": 13,
   "metadata": {},
   "outputs": [
    {
     "name": "stdout",
     "output_type": "stream",
     "text": [
      "    node_id  COUNT(node_id)                            timestamp\n",
      "0      3200           54824  b'2019-05-24 13:18:02.994616+00:00'\n",
      "1      3224           11449  b'2019-05-24 15:40:09.994598+00:00'\n",
      "2      3240            1879   b'2019-05-25 06:39:14.99468+00:00'\n",
      "3     51719           32469  b'2019-05-24 16:18:18.994673+00:00'\n",
      "4     51735          102006  b'2019-05-25 06:38:44.994583+00:00'\n",
      "5     51751           45886  b'2019-05-24 13:05:08.987771+00:00'\n",
      "6     51850          104681  b'2019-05-25 05:08:54.995013+00:00'\n",
      "7     51866          113297  b'2019-05-24 13:06:52.995091+00:00'\n",
      "8     51889          268178  b'2019-05-24 13:05:31.995048+00:00'\n",
      "9     51968           25528  b'2019-05-24 13:17:21.994477+00:00'\n",
      "10    51976           66253  b'2019-05-24 13:05:08.987162+00:00'\n",
      "11    51992            1325  b'2019-05-25 06:25:51.994608+00:00'\n",
      "12    52003           13915  b'2019-05-25 06:40:26.994632+00:00'\n",
      "13    52008               1  b'2019-05-28 09:14:51.995571+00:00'\n",
      "14    52023              59  b'2019-05-24 14:19:46.991544+00:00'\n",
      "15    52099           96707  b'2019-05-24 13:13:02.994582+00:00'\n",
      "16    52535          130067  b'2019-05-24 13:05:29.987097+00:00'\n",
      "17    53011           74043   b'2019-05-24 13:15:31.99536+00:00'\n",
      "18    53130          201303  b'2019-05-24 16:21:17.994677+00:00'\n",
      "19    53888               1  b'2019-05-24 22:19:10.994551+00:00'\n",
      "20    53924           18429   b'2019-05-24 19:52:00.99486+00:00'\n",
      "21    53936           33171  b'2019-05-25 00:13:53.994617+00:00'\n",
      "22    54016          282277  b'2019-05-24 16:23:19.994682+00:00'\n"
     ]
    }
   ],
   "source": [
    "mycursor = mydb.cursor(dictionary=True)\n",
    "mycursor.execute(\"SELECT node_id, COUNT(node_id), timestamp FROM SensorData   WHERE timestamp > '2019-05-24 13:05:08.078133+00:00' AND timestamp < '2019-05-29 13:05:08.078133+00:00'  AND x > 0  AND X < 10406 AND y < 5220 AND y > 0 AND   q <100 AND z = 0 GROUP BY node_id \");\n",
    "df = pd.DataFrame(mycursor.fetchall())\n",
    "print(df)\n",
    "\n",
    "#COUNT ja GROUP BY jo hakuvaiheessa\n",
    "\n"
   ]
  },
  {
   "cell_type": "code",
   "execution_count": 20,
   "metadata": {},
   "outputs": [
    {
     "ename": "TypeError",
     "evalue": "Cannot convert input [0     b'2019-05-24 13:18:02.994616+00:00'\n1     b'2019-05-24 15:40:09.994598+00:00'\n2      b'2019-05-25 06:39:14.99468+00:00'\n3     b'2019-05-24 16:18:18.994673+00:00'\n4     b'2019-05-25 06:38:44.994583+00:00'\n5     b'2019-05-24 13:05:08.987771+00:00'\n6     b'2019-05-25 05:08:54.995013+00:00'\n7     b'2019-05-24 13:06:52.995091+00:00'\n8     b'2019-05-24 13:05:31.995048+00:00'\n9     b'2019-05-24 13:17:21.994477+00:00'\n10    b'2019-05-24 13:05:08.987162+00:00'\n11    b'2019-05-25 06:25:51.994608+00:00'\n12    b'2019-05-25 06:40:26.994632+00:00'\n13    b'2019-05-28 09:14:51.995571+00:00'\n14    b'2019-05-24 14:19:46.991544+00:00'\n15    b'2019-05-24 13:13:02.994582+00:00'\n16    b'2019-05-24 13:05:29.987097+00:00'\n17     b'2019-05-24 13:15:31.99536+00:00'\n18    b'2019-05-24 16:21:17.994677+00:00'\n19    b'2019-05-24 22:19:10.994551+00:00'\n20     b'2019-05-24 19:52:00.99486+00:00'\n21    b'2019-05-25 00:13:53.994617+00:00'\n22    b'2019-05-24 16:23:19.994682+00:00'\nName: timestamp, dtype: object] of type <class 'pandas.core.series.Series'> to Timestamp",
     "output_type": "error",
     "traceback": [
      "\u001b[0;31m---------------------------------------------------------------------------\u001b[0m",
      "\u001b[0;31mTypeError\u001b[0m                                 Traceback (most recent call last)",
      "\u001b[0;32m<ipython-input-20-fac18f16cb74>\u001b[0m in \u001b[0;36m<module>\u001b[0;34m\u001b[0m\n\u001b[0;32m----> 1\u001b[0;31m \u001b[0mpd\u001b[0m\u001b[0;34m.\u001b[0m\u001b[0mTimestamp\u001b[0m\u001b[0;34m(\u001b[0m\u001b[0mdf\u001b[0m\u001b[0;34m.\u001b[0m\u001b[0mtimestamp\u001b[0m\u001b[0;34m,\u001b[0m \u001b[0mfreq\u001b[0m\u001b[0;34m=\u001b[0m\u001b[0;34m'b'\u001b[0m\u001b[0;34m)\u001b[0m\u001b[0;34m\u001b[0m\u001b[0;34m\u001b[0m\u001b[0m\n\u001b[0m\u001b[1;32m      2\u001b[0m \u001b[0mprint\u001b[0m\u001b[0;34m(\u001b[0m\u001b[0mdf\u001b[0m\u001b[0;34m.\u001b[0m\u001b[0mtimestamp\u001b[0m\u001b[0;34m)\u001b[0m\u001b[0;34m\u001b[0m\u001b[0;34m\u001b[0m\u001b[0m\n",
      "\u001b[0;32mpandas/_libs/tslibs/timestamps.pyx\u001b[0m in \u001b[0;36mpandas._libs.tslibs.timestamps.Timestamp.__new__\u001b[0;34m()\u001b[0m\n",
      "\u001b[0;32mpandas/_libs/tslibs/conversion.pyx\u001b[0m in \u001b[0;36mpandas._libs.tslibs.conversion.convert_to_tsobject\u001b[0;34m()\u001b[0m\n",
      "\u001b[0;31mTypeError\u001b[0m: Cannot convert input [0     b'2019-05-24 13:18:02.994616+00:00'\n1     b'2019-05-24 15:40:09.994598+00:00'\n2      b'2019-05-25 06:39:14.99468+00:00'\n3     b'2019-05-24 16:18:18.994673+00:00'\n4     b'2019-05-25 06:38:44.994583+00:00'\n5     b'2019-05-24 13:05:08.987771+00:00'\n6     b'2019-05-25 05:08:54.995013+00:00'\n7     b'2019-05-24 13:06:52.995091+00:00'\n8     b'2019-05-24 13:05:31.995048+00:00'\n9     b'2019-05-24 13:17:21.994477+00:00'\n10    b'2019-05-24 13:05:08.987162+00:00'\n11    b'2019-05-25 06:25:51.994608+00:00'\n12    b'2019-05-25 06:40:26.994632+00:00'\n13    b'2019-05-28 09:14:51.995571+00:00'\n14    b'2019-05-24 14:19:46.991544+00:00'\n15    b'2019-05-24 13:13:02.994582+00:00'\n16    b'2019-05-24 13:05:29.987097+00:00'\n17     b'2019-05-24 13:15:31.99536+00:00'\n18    b'2019-05-24 16:21:17.994677+00:00'\n19    b'2019-05-24 22:19:10.994551+00:00'\n20     b'2019-05-24 19:52:00.99486+00:00'\n21    b'2019-05-25 00:13:53.994617+00:00'\n22    b'2019-05-24 16:23:19.994682+00:00'\nName: timestamp, dtype: object] of type <class 'pandas.core.series.Series'> to Timestamp"
     ]
    }
   ],
   "source": []
  },
  {
   "cell_type": "markdown",
   "metadata": {},
   "source": [
    "# Tehdään dataframe ja laitetaan siihen kaikki data sekä tehdään prosenttiosuus kärreistä"
   ]
  },
  {
   "cell_type": "code",
   "execution_count": 5,
   "metadata": {},
   "outputs": [
    {
     "name": "stdout",
     "output_type": "stream",
     "text": [
      "    node_id   count  prosenttiosuus\n",
      "0      3200   54824        3.267714\n",
      "1      3224   11449        0.682403\n",
      "2      3240    1879        0.111995\n",
      "3     51719   32469        1.935273\n",
      "4     51735  102006        6.079936\n",
      "5     51751   45886        2.734976\n",
      "6     51850  104681        6.239376\n",
      "7     51866  113297        6.752921\n",
      "8     51889  268178       15.984403\n",
      "9     51968   25528        1.521563\n",
      "10    51976   66253        3.948924\n",
      "11    51992    1325        0.078975\n",
      "12    52003   13915        0.829386\n",
      "13    52008       1        0.000060\n",
      "14    52023      59        0.003517\n",
      "15    52099   96707        5.764096\n",
      "16    52535  130067        7.752475\n",
      "17    53011   74043        4.413237\n",
      "18    53130  201303       11.998405\n",
      "19    53888       1        0.000060\n",
      "20    53924   18429        1.098437\n",
      "21    53936   33171        1.977115\n",
      "22    54016  282277       16.824756\n"
     ]
    }
   ],
   "source": [
    "nodet = pd.DataFrame()\n",
    "\n",
    "\n",
    "nodet['node_id'] = df['node_id']\n",
    "nodet['count'] = df['COUNT(node_id)']\n",
    "nodet['prosenttiosuus'] = 100 * (df['COUNT(node_id)'] / (df['COUNT(node_id)'].sum()))\n",
    "\n",
    "print(nodet)"
   ]
  },
  {
   "cell_type": "markdown",
   "metadata": {},
   "source": [
    "# Plotataan node_id ja prosenttiosuus"
   ]
  },
  {
   "cell_type": "code",
   "execution_count": 7,
   "metadata": {},
   "outputs": [
    {
     "data": {
      "text/plain": [
       "Text(0.5, 0, 'Kärryn numero')"
      ]
     },
     "execution_count": 7,
     "metadata": {},
     "output_type": "execute_result"
    },
    {
     "data": {
      "image/png": "[encoded data removed]",
      "text/plain": [
       "<Figure size 432x288 with 1 Axes>"
      ]
     },
     "metadata": {
      "needs_background": "light"
     },
     "output_type": "display_data"
    }
   ],
   "source": [
    "import pylab as plt\n",
    "\n",
    "nodet.groupby(\"node_id\").prosenttiosuus.mean().sort_values(ascending=False)[:23].plot.bar(title='Kärryjen esiintymistiheys 2019-05-24 - 2019-05-29')\n",
    "plt.ylabel('Prosenttiosuus %')\n",
    "plt.xlabel('Kärryn numero')"
   ]
  },
  {
   "cell_type": "code",
   "execution_count": null,
   "metadata": {},
   "outputs": [],
   "source": []
  }
 ],
 "metadata": {
  "kernelspec": {
   "display_name": "Python 3",
   "language": "python",
   "name": "python3"
  },
  "language_info": {
   "codemirror_mode": {
    "name": "ipython",
    "version": 3
   },
   "file_extension": ".py",
   "mimetype": "text/x-python",
   "name": "python",
   "nbconvert_exporter": "python",
   "pygments_lexer": "ipython3",
   "version": "3.7.6"
  }
 },
 "nbformat": 4,
 "nbformat_minor": 4
}
