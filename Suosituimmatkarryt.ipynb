{
 "cells": [
  {
   "cell_type": "markdown",
   "metadata": {},
   "source": [
    "# Yhteys databaseen ja tarvittavat riippuvuudet"
   ]
  },
  {
   "cell_type": "code",
   "execution_count": 37,
   "metadata": {},
   "outputs": [
    {
     "name": "stdout",
     "output_type": "stream",
     "text": [
      "Requirement already satisfied: mysql-connector in /opt/conda/lib/python3.7/site-packages (2.2.9)\n"
     ]
    }
   ],
   "source": [
    "# Run this code if you get errors with missing requirements\n",
    "import sys\n",
    "!{sys.executable} -m pip install mysql-connector\n",
    "\n",
    "import pandas as pd\n",
    "import mysql.connector\n",
    "\n",
    "mydb = mysql.connector.connect(\n",
    "  host=\"iiwari-mariadb-server\",\n",
    "  user=\"root\",\n",
    "  passwd=\"d41k4Duu\",\n",
    "  database=\"iiwari_org\"\n",
    ")\n",
    "\n"
   ]
  },
  {
   "cell_type": "markdown",
   "metadata": {},
   "source": [
    "# Noukitaan databasesta halutut tiedot sql-kyselyllä"
   ]
  },
  {
   "cell_type": "code",
   "execution_count": 60,
   "metadata": {},
   "outputs": [
    {
     "name": "stdout",
     "output_type": "stream",
     "text": [
      "    node_id      x     y  COUNT(node_id)                            timestamp\n",
      "0      3200    135  2464          287102  b'2019-06-01 13:05:08.987486+00:00'\n",
      "1      3224   3852  3354          780661  b'2019-06-01 13:05:08.991554+00:00'\n",
      "2      3240    100   591          609000  b'2019-06-01 14:11:23.994686+00:00'\n",
      "3     42787    169  2598               1  b'2019-06-13 06:15:23.987745+00:00'\n",
      "4     51719    492  2004          654583  b'2019-06-01 13:33:46.994769+00:00'\n",
      "5     51735    950  3750           75999  b'2019-06-03 05:36:30.994673+00:00'\n",
      "6     51751    184  2507          793097  b'2019-06-02 11:32:32.986908+00:00'\n",
      "7     51850    314  1361          588988  b'2019-06-01 13:05:56.994484+00:00'\n",
      "8     51866    950  3650          333174    b'2019-06-02 11:32:31.9869+00:00'\n",
      "9     51889    112  2441          417422   b'2019-06-01 13:05:08.98749+00:00'\n",
      "10    51968    251  1133          244531  b'2019-06-01 13:05:14.994556+00:00'\n",
      "11    51976   9533  2072           20951  b'2019-06-01 13:05:08.987581+00:00'\n",
      "12    51992    893  3445          108010  b'2019-06-01 16:18:35.994677+00:00'\n",
      "13    52003    567  3193          264497   b'2019-06-01 13:05:08.98658+00:00'\n",
      "14    52008    108   613               2  b'2019-06-03 04:30:36.994902+00:00'\n",
      "15    52023    119   660          409482  b'2019-06-03 05:20:43.994638+00:00'\n",
      "16    52099     21  2601          201257  b'2019-06-01 13:05:09.987155+00:00'\n",
      "17    52535    950  3650          378117  b'2019-06-01 13:05:08.994567+00:00'\n",
      "18    53011    242  1101          151882  b'2019-06-03 05:16:51.995237+00:00'\n",
      "19    53027    108  2027              72  b'2019-06-02 10:31:37.994635+00:00'\n",
      "20    53130    119   660          378100  b'2019-06-01 13:34:34.994749+00:00'\n",
      "21    53768 -31818  3734               2  b'2019-06-10 13:17:12.994639+00:00'\n",
      "22    53795  11103  1016              22   b'2019-06-02 10:40:16.98789+00:00'\n",
      "23    53888     14  2592              79  b'2019-06-01 17:29:07.988188+00:00'\n",
      "24    53924     60  2575          492347  b'2019-06-01 13:05:08.987497+00:00'\n",
      "25    53936    251  2399          621294  b'2019-06-02 11:32:31.986985+00:00'\n",
      "26    54016   8441  2080          752629  b'2019-06-01 13:05:08.994558+00:00'\n"
     ]
    }
   ],
   "source": [
    "mycursor = mydb.cursor(dictionary=True)\n",
    "mycursor.execute(\"SELECT node_id, x, y, COUNT(node_id), timestamp FROM SensorData WHERE timestamp > '2019-06-01 13:05:08.078133+00:00' AND timestamp < '2019-06-20 13:05:08.078133+00:00' GROUP BY node_id \");\n",
    "database = pd.DataFrame(mycursor.fetchall())\n",
    "print(database)\n",
    "\n",
    "#COUNT ja GROUP BY jo hakuvaiheessa\n",
    "\n"
   ]
  },
  {
   "cell_type": "markdown",
   "metadata": {},
   "source": [
    "# Rajataan aluetta (latausasemat yms)"
   ]
  },
  {
   "cell_type": "code",
   "execution_count": 61,
   "metadata": {},
   "outputs": [
    {
     "name": "stdout",
     "output_type": "stream",
     "text": [
      "    node_id     x     y  COUNT(node_id)                            timestamp\n",
      "1      3224  3852  3354          780661  b'2019-06-01 13:05:08.991554+00:00'\n",
      "4     51719   492  2004          654583  b'2019-06-01 13:33:46.994769+00:00'\n",
      "7     51850   314  1361          588988  b'2019-06-01 13:05:56.994484+00:00'\n",
      "10    51968   251  1133          244531  b'2019-06-01 13:05:14.994556+00:00'\n",
      "11    51976  9533  2072           20951  b'2019-06-01 13:05:08.987581+00:00'\n",
      "18    53011   242  1101          151882  b'2019-06-03 05:16:51.995237+00:00'\n",
      "25    53936   251  2399          621294  b'2019-06-02 11:32:31.986985+00:00'\n",
      "26    54016  8441  2080          752629  b'2019-06-01 13:05:08.994558+00:00'\n"
     ]
    }
   ],
   "source": [
    "# talon rajoja\n",
    "database = database[database.y > -1]\n",
    "database = database[database.y < 10407]\n",
    "database = database[database.x < 10100]\n",
    "database = database[database.x > 240]\n",
    "\n",
    "# Latausasemat pois\n",
    "database = database.drop(database[(database.x < 1850.0) & (database.y > 3000)].index)\n",
    "# Oikea ylänurkka pois\n",
    "database = database.drop(database[(database.x > 8200) & (database.y < 250)].index)\n",
    "# tuloaula - ei vissiin toimi tracking siellä hyvin\n",
    "database = database.drop(database[(database.x < 1000) & (database.y > 2500)].index)\n",
    "print(database)"
   ]
  },
  {
   "cell_type": "markdown",
   "metadata": {},
   "source": [
    "# Laitetaan timestamppi dataframeen ja poistetaan siitä turhat, lisätään kesä- ja talviajan huomionti (timezone)"
   ]
  },
  {
   "cell_type": "code",
   "execution_count": 62,
   "metadata": {},
   "outputs": [
    {
     "name": "stdout",
     "output_type": "stream",
     "text": [
      "                   timestamp\n",
      "1  2019-06-01 16:05:08+03:00\n",
      "11 2019-06-01 16:05:08+03:00\n",
      "26 2019-06-01 16:05:08+03:00\n",
      "10 2019-06-01 16:05:14+03:00\n",
      "7  2019-06-01 16:05:56+03:00\n",
      "4  2019-06-01 16:33:46+03:00\n",
      "25 2019-06-02 14:32:31+03:00\n",
      "18 2019-06-03 08:16:51+03:00\n"
     ]
    }
   ],
   "source": [
    "database['timestamp'] = database['timestamp'].astype('str')\n",
    "database['timestamp'] = database['timestamp'].str.rstrip(\"'+00:00'\")\n",
    "database['timestamp'] = database['timestamp'].str.lstrip(\"b'\")\n",
    "database['timestamp'] = database['timestamp'].astype('datetime64[s]')\n",
    "\n",
    "database.timestamp = database.timestamp.dt.tz_localize('UTC')\n",
    "database.timestamp = database.timestamp.dt.tz_convert('Europe/Helsinki')\n",
    "\n",
    "database = database.sort_values(by='timestamp',ascending=True)\n",
    "\n",
    "nodet = pd.DataFrame()\n",
    "\n",
    "nodet['timestamp'] = database['timestamp']\n",
    "\n",
    "\n",
    "\n",
    "print(nodet)\n"
   ]
  },
  {
   "cell_type": "markdown",
   "metadata": {},
   "source": [
    "# Muutetaan timestamp datetime64 muotoon ja pyörristetään tunnin tarkkuudelle\n",
    "### Pudotetaan aukiolon ulkopuolella olevat ajat"
   ]
  },
  {
   "cell_type": "code",
   "execution_count": 63,
   "metadata": {},
   "outputs": [
    {
     "name": "stdout",
     "output_type": "stream",
     "text": [
      "             timestamp\n",
      "1  2019-06-01 13:00:00\n",
      "11 2019-06-01 13:00:00\n",
      "26 2019-06-01 13:00:00\n",
      "10 2019-06-01 13:00:00\n",
      "7  2019-06-01 13:00:00\n",
      "4  2019-06-01 14:00:00\n",
      "25 2019-06-02 12:00:00\n"
     ]
    }
   ],
   "source": [
    "nodet['timestamp'] = nodet['timestamp'].astype('datetime64[ns]')\n",
    "nodet['timestamp'] = pd.Series(nodet['timestamp']).dt.round(\"H\")\n",
    "\n",
    "nodet = nodet.drop(nodet[(nodet.timestamp.dt.hour > 21)].index)\n",
    "nodet = nodet.drop(nodet[(nodet.timestamp.dt.hour < 8)].index)\n",
    "\n",
    "\n",
    "\n",
    "print(nodet)"
   ]
  },
  {
   "cell_type": "markdown",
   "metadata": {},
   "source": [
    "# laitetaan node_id count ja prosenttiosuus kärreistä"
   ]
  },
  {
   "cell_type": "code",
   "execution_count": 64,
   "metadata": {},
   "outputs": [
    {
     "name": "stdout",
     "output_type": "stream",
     "text": [
      "             timestamp  node_id   count  prosenttiosuus\n",
      "1  2019-06-01 13:00:00     3224  780661       20.460152\n",
      "11 2019-06-01 13:00:00    51976   20951        0.549100\n",
      "26 2019-06-01 13:00:00    54016  752629       19.725469\n",
      "10 2019-06-01 13:00:00    51968  244531        6.408853\n",
      "7  2019-06-01 13:00:00    51850  588988       15.436642\n",
      "4  2019-06-01 14:00:00    51719  654583       17.155805\n",
      "25 2019-06-02 12:00:00    53936  621294       16.283342\n"
     ]
    }
   ],
   "source": [
    "\n",
    "nodet['node_id'] = database['node_id']\n",
    "nodet['count'] = database['COUNT(node_id)']\n",
    "nodet['prosenttiosuus'] = 100 * (database['COUNT(node_id)'] / (database['COUNT(node_id)'].sum()))\n",
    "\n",
    "print(nodet)"
   ]
  },
  {
   "cell_type": "markdown",
   "metadata": {},
   "source": [
    "# Plotataan node_id ja prosenttiosuus\n",
    "### Saadaan siis kärryjen prosenttiosuus koko ajalta"
   ]
  },
  {
   "cell_type": "code",
   "execution_count": 65,
   "metadata": {},
   "outputs": [
    {
     "data": {
      "text/plain": [
       "Text(0.5, 0, 'Kärryn numero')"
      ]
     },
     "execution_count": 65,
     "metadata": {},
     "output_type": "execute_result"
    },
    {
     "data": {
      "image/png": "[encoded data removed]",
      "text/plain": [
       "<Figure size 432x288 with 1 Axes>"
      ]
     },
     "metadata": {
      "needs_background": "light"
     },
     "output_type": "display_data"
    }
   ],
   "source": [
    "import pylab as plt\n",
    "\n",
    "nodet.groupby(\"node_id\").prosenttiosuus.mean().sort_values(ascending=False)[:23].plot.bar(title='Kärryjen esiintymistiheys ' + str(database.timestamp.dt.date.iloc[0]) + \" - \" + str(database.timestamp.dt.date.iloc[-1]))\n",
    "plt.ylabel('Prosenttiosuus %')\n",
    "plt.xlabel('Kärryn numero')"
   ]
  }
 ],
 "metadata": {
  "kernelspec": {
   "display_name": "Python 3",
   "language": "python",
   "name": "python3"
  },
  "language_info": {
   "codemirror_mode": {
    "name": "ipython",
    "version": 3
   },
   "file_extension": ".py",
   "mimetype": "text/x-python",
   "name": "python",
   "nbconvert_exporter": "python",
   "pygments_lexer": "ipython3",
   "version": "3.7.6"
  }
 },
 "nbformat": 4,
 "nbformat_minor": 4
}
