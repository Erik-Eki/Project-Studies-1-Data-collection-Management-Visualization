{
 "cells": [
  {
   "cell_type": "code",
   "execution_count": 1,
   "metadata": {},
   "outputs": [
    {
     "name": "stdout",
     "output_type": "stream",
     "text": [
      "Requirement already satisfied: mysql-connector in /opt/conda/lib/python3.7/site-packages (2.2.9)\n"
     ]
    }
   ],
   "source": [
    "# Run this code if you get errors with missing requirements\n",
    "import sys\n",
    "!{sys.executable} -m pip install mysql-connector\n",
    "\n",
    "import pandas as pd\n",
    "import mysql.connector\n",
    "\n",
    "mydb = mysql.connector.connect(\n",
    "  host=\"iiwari-mariadb-server\",\n",
    "  user=\"root\",\n",
    "  passwd=\"d41k4Duu\",\n",
    "  database=\"iiwari_org\"\n",
    ")\n"
   ]
  },
  {
   "cell_type": "code",
   "execution_count": 2,
   "metadata": {},
   "outputs": [
    {
     "name": "stdout",
     "output_type": "stream",
     "text": [
      "      node_id                            timestamp   x     y  z    q\n",
      "0       54016  b'2019-03-21 07:54:39.687645+00:00' -50    50  0  233\n",
      "1       54016  b'2019-03-21 07:54:40.686633+00:00' -50    50  0   76\n",
      "2       54016  b'2019-03-21 07:54:41.687915+00:00' -50    50  0   99\n",
      "3       54016  b'2019-03-21 07:54:43.687457+00:00' -50    50  0   96\n",
      "4       54016  b'2019-03-21 07:54:44.687414+00:00' -50    50  0   32\n",
      "...       ...                                  ...  ..   ... ..  ...\n",
      "6313    54016  b'2019-03-21 11:52:47.687037+00:00' -50  2797  0  149\n",
      "6314    54016  b'2019-03-21 11:52:48.687442+00:00' -50  2846  0  227\n",
      "6315    54016  b'2019-03-21 11:52:49.687187+00:00' -50  2887  0  157\n",
      "6316    54016  b'2019-03-21 11:52:50.687142+00:00' -50  2920  0  143\n",
      "6317    54016  b'2019-03-21 11:52:51.691455+00:00' -50  2946  0   97\n",
      "\n",
      "[6318 rows x 6 columns]\n"
     ]
    }
   ],
   "source": [
    "# Check database contents\n",
    "mycursor = mydb.cursor(dictionary=True)\n",
    "mycursor.execute(\"SELECT node_id, timestamp, x,y,z,q FROM SensorData WHERE node_id = 54016 AND timestamp > '2019-03-20 09:00:00.000000+00:00' AND timestamp < '2019-03-21 22:05:08.078133+00:00' LIMIT 20000 \" );\n",
    "df = pd.DataFrame(mycursor.fetchall())\n",
    "\n",
    "print(df)"
   ]
  },
  {
   "cell_type": "markdown",
   "metadata": {},
   "source": [
    "# Luodaat uusi taulu johon laitetaan saatu data\n"
   ]
  },
  {
   "cell_type": "code",
   "execution_count": 5,
   "metadata": {},
   "outputs": [
    {
     "name": "stdout",
     "output_type": "stream",
     "text": [
      "      node_id                                    T   X     Y  Z    Q\n",
      "0       54016  b'2019-03-21 07:54:39.687645+00:00' -50    50  0  233\n",
      "1       54016  b'2019-03-21 07:54:40.686633+00:00' -50    50  0   76\n",
      "2       54016  b'2019-03-21 07:54:41.687915+00:00' -50    50  0   99\n",
      "3       54016  b'2019-03-21 07:54:43.687457+00:00' -50    50  0   96\n",
      "4       54016  b'2019-03-21 07:54:44.687414+00:00' -50    50  0   32\n",
      "...       ...                                  ...  ..   ... ..  ...\n",
      "6313    54016  b'2019-03-21 11:52:47.687037+00:00' -50  2797  0  149\n",
      "6314    54016  b'2019-03-21 11:52:48.687442+00:00' -50  2846  0  227\n",
      "6315    54016  b'2019-03-21 11:52:49.687187+00:00' -50  2887  0  157\n",
      "6316    54016  b'2019-03-21 11:52:50.687142+00:00' -50  2920  0  143\n",
      "6317    54016  b'2019-03-21 11:52:51.691455+00:00' -50  2946  0   97\n",
      "\n",
      "[6318 rows x 6 columns]\n"
     ]
    }
   ],
   "source": [
    "table = pd.DataFrame()\n",
    "table['node_id'] = df.node_id\n",
    "table['T'] = df.timestamp\n",
    "table['X'] = df.x\n",
    "table['Y'] = df.y\n",
    "table['Z'] = df.z\n",
    "table['Q'] = df.q\n",
    "\n",
    "print(table)"
   ]
  },
  {
   "cell_type": "markdown",
   "metadata": {},
   "source": [
    "# Leikataan timestampeistä pois turhat rojut"
   ]
  },
  {
   "cell_type": "code",
   "execution_count": 6,
   "metadata": {},
   "outputs": [
    {
     "name": "stdout",
     "output_type": "stream",
     "text": [
      "0       2019-03-21 07:54:39.687645\n",
      "1       2019-03-21 07:54:40.686633\n",
      "2       2019-03-21 07:54:41.687915\n",
      "3       2019-03-21 07:54:43.687457\n",
      "4       2019-03-21 07:54:44.687414\n",
      "                   ...            \n",
      "6313    2019-03-21 11:52:47.687037\n",
      "6314    2019-03-21 11:52:48.687442\n",
      "6315    2019-03-21 11:52:49.687187\n",
      "6316    2019-03-21 11:52:50.687142\n",
      "6317    2019-03-21 11:52:51.691455\n",
      "Name: T, Length: 6318, dtype: object\n"
     ]
    }
   ],
   "source": [
    "table['T'] = table['T'].astype(str)\n",
    "table['T'].dtype\n",
    "table['T'] = table['T'].str.slice(2, -7)\n",
    "print(table['T'])\n"
   ]
  },
  {
   "cell_type": "markdown",
   "metadata": {},
   "source": [
    "# Muutetaan muotoon datetime64 ja pyöristetään sekunnin tarkkuudelle"
   ]
  },
  {
   "cell_type": "code",
   "execution_count": 7,
   "metadata": {},
   "outputs": [
    {
     "data": {
      "text/plain": [
       "0   2019-03-21 07:54:40\n",
       "1   2019-03-21 07:54:41\n",
       "2   2019-03-21 07:54:42\n",
       "3   2019-03-21 07:54:44\n",
       "4   2019-03-21 07:54:45\n",
       "Name: T, dtype: datetime64[ns]"
      ]
     },
     "execution_count": 7,
     "metadata": {},
     "output_type": "execute_result"
    }
   ],
   "source": [
    "table['T'] = table['T'].astype('datetime64[ns]')\n",
    "table['T'] = pd.Series(table['T']).dt.round(\"S\")\n",
    "table['T'].head()"
   ]
  },
  {
   "cell_type": "markdown",
   "metadata": {},
   "source": [
    "# Poistetaan ylirajojen menevät x,y koordinaatit sekä kaikki jossa Q on on yli 100"
   ]
  },
  {
   "cell_type": "code",
   "execution_count": 8,
   "metadata": {},
   "outputs": [
    {
     "name": "stdout",
     "output_type": "stream",
     "text": [
      "      node_id                   T    X     Y  Z   Q\n",
      "43      54016 2019-03-21 07:55:23  132  2801  0  61\n",
      "44      54016 2019-03-21 07:55:23  132  2801  0  61\n",
      "45      54016 2019-03-21 07:55:24  252  2802  0  91\n",
      "46      54016 2019-03-21 07:55:25  294  2789  0  70\n",
      "47      54016 2019-03-21 07:55:26  400  2797  0  90\n",
      "...       ...                 ...  ...   ... ..  ..\n",
      "6221    54016 2019-03-21 11:51:17  115  2580  0  85\n",
      "6222    54016 2019-03-21 11:51:18  117  2585  0  88\n",
      "6223    54016 2019-03-21 11:51:19  112  2580  0  69\n",
      "6224    54016 2019-03-21 11:51:20  106  2578  0  71\n",
      "6225    54016 2019-03-21 11:51:21  103  2574  0  72\n",
      "\n",
      "[5248 rows x 6 columns]\n"
     ]
    }
   ],
   "source": [
    "table = table[table.Y > -1]\n",
    "table = table[table.Y < 10407]\n",
    "table = table[table.Q < 100]\n",
    "table = table[table.X < 12000]\n",
    "table = table[table.X > 100]\n",
    "print(table)"
   ]
  },
  {
   "cell_type": "code",
   "execution_count": null,
   "metadata": {},
   "outputs": [],
   "source": []
  }
 ],
 "metadata": {
  "kernelspec": {
   "display_name": "Python 3",
   "language": "python",
   "name": "python3"
  },
  "language_info": {
   "codemirror_mode": {
    "name": "ipython",
    "version": 3
   },
   "file_extension": ".py",
   "mimetype": "text/x-python",
   "name": "python",
   "nbconvert_exporter": "python",
   "pygments_lexer": "ipython3",
   "version": "3.7.6"
  }
 },
 "nbformat": 4,
 "nbformat_minor": 4
}
