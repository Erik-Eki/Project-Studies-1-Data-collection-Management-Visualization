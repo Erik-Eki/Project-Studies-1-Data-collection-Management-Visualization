{
 "cells": [
  {
   "cell_type": "code",
   "execution_count": 2,
   "metadata": {},
   "outputs": [],
   "source": [
    "from __future__ import print_function\n",
    "from ipywidgets import interact, interactive, fixed, interact_manual\n",
    "import ipywidgets as widgets\n",
    "\n"
   ]
  },
  {
   "cell_type": "code",
   "execution_count": 34,
   "metadata": {},
   "outputs": [
    {
     "name": "stdout",
     "output_type": "stream",
     "text": [
      "Requirement already satisfied: mysql-connector in /opt/conda/lib/python3.7/site-packages (2.2.9)\n"
     ]
    }
   ],
   "source": [
    "# Run this code if you get errors with missing requirements\n",
    "import sys\n",
    "!{sys.executable} -m pip install mysql-connector\n",
    "\n",
    "import pandas as pd\n",
    "import mysql.connector\n",
    "\n",
    "mydb = mysql.connector.connect(\n",
    "  host=\"iiwari-mariadb-server\",\n",
    "  user=\"root\",\n",
    "  passwd=\"d41k4Duu\",\n",
    "  database=\"iiwari_org\"\n",
    ")"
   ]
  },
  {
   "cell_type": "code",
   "execution_count": 35,
   "metadata": {},
   "outputs": [
    {
     "name": "stdout",
     "output_type": "stream",
     "text": [
      "      node_id                            timestamp     x     y\n",
      "0       52535   b'2019-05-25 05:14:15.98762+00:00'  1027  2872\n",
      "1       52535  b'2019-05-25 05:14:16.987661+00:00'  1132  2858\n",
      "2       52535  b'2019-05-25 05:14:17.988363+00:00'  1249  2864\n",
      "3       52535  b'2019-05-25 05:14:18.987879+00:00'  1348  2864\n",
      "4       52535   b'2019-05-25 05:14:19.98964+00:00'  1591  2847\n",
      "...       ...                                  ...   ...   ...\n",
      "9995    51735   b'2019-05-25 07:58:24.99257+00:00'  6594  2036\n",
      "9996    51735  b'2019-05-25 07:58:25.987437+00:00'  7437  1780\n",
      "9997    52003  b'2019-05-25 07:58:25.987444+00:00'  9410  1173\n",
      "9998    52003  b'2019-05-25 07:58:25.987447+00:00'  9410  1173\n",
      "9999    52535  b'2019-05-25 07:58:25.988533+00:00'  2736   145\n",
      "\n",
      "[10000 rows x 4 columns]\n"
     ]
    }
   ],
   "source": [
    "mycursor = mydb.cursor(dictionary=True)\n",
    "mycursor.execute(\"SELECT node_id, timestamp, x, y FROM SensorData WHERE timestamp > '2019-05-25 04:00:08.078133+00:00' AND timestamp < '2019-06-01 20:00:08.078133+00:00'  AND x > 1000  AND X < 10406 AND y < 5220 AND y > 0  AND z = 0 LIMIT 10000\");\n",
    "database = pd.DataFrame(mycursor.fetchall())\n",
    "print(database)"
   ]
  },
  {
   "cell_type": "code",
   "execution_count": 36,
   "metadata": {},
   "outputs": [
    {
     "name": "stdout",
     "output_type": "stream",
     "text": [
      "           node_id  esintyvyysprosentti\n",
      "timestamp                              \n",
      " 08:00:00      410                 4.10\n",
      " 09:00:00     1843                18.43\n",
      " 10:00:00     7747                77.47\n"
     ]
    }
   ],
   "source": [
    "\n",
    "nodes = pd.DataFrame()\n",
    "nodes['node_id'] = database['node_id']\n",
    "database['timestamp'] = database['timestamp'].astype('str')\n",
    "database['timestamp'] = database['timestamp'].str.rstrip(\"'+00:00'\")\n",
    "database['timestamp'] = database['timestamp'].str.lstrip(\"b'\")\n",
    "database['timestamp'] = database['timestamp'].astype('datetime64[s]')\n",
    "\n",
    "database.timestamp = database.timestamp.dt.tz_localize('UTC')\n",
    "database.timestamp = database.timestamp.dt.tz_convert('Europe/Helsinki')\n",
    "\n",
    "nodes['timestamp'] = database['timestamp']\n",
    "\n",
    "database = database.drop(database[(database.timestamp.dt.hour > 21)].index)\n",
    "database = database.drop(database[(database.timestamp.dt.hour < 8)].index)\n",
    "\n",
    "\n",
    "nodes.index = nodes['timestamp']\n",
    "nodes = nodes.drop('timestamp', axis=1)\n",
    "\n",
    "nodes = nodes.resample('H').count()\n",
    "\n",
    "nodes['esintyvyysprosentti'] = 100 * (nodes['node_id'] / nodes['node_id'].sum())\n",
    "\n",
    "nodes.index = nodes.index.astype(str)\n",
    "nodes.index = nodes.index.str.slice(10, -6)\n",
    "\n",
    "print(nodes)"
   ]
  },
  {
   "cell_type": "code",
   "execution_count": 37,
   "metadata": {},
   "outputs": [
    {
     "name": "stdout",
     "output_type": "stream",
     "text": [
      "      node_id                 timestamp     x     y  kuukaudet\n",
      "0       52535 2019-05-25 08:14:15+03:00  1027  2872          5\n",
      "1       52535 2019-05-25 08:14:16+03:00  1132  2858          5\n",
      "2       52535 2019-05-25 08:14:17+03:00  1249  2864          5\n",
      "3       52535 2019-05-25 08:14:18+03:00  1348  2864          5\n",
      "4       52535 2019-05-25 08:14:19+03:00  1591  2847          5\n",
      "...       ...                       ...   ...   ...        ...\n",
      "9995    51735 2019-05-25 10:58:24+03:00  6594  2036          5\n",
      "9996    51735 2019-05-25 10:58:25+03:00  7437  1780          5\n",
      "9997    52003 2019-05-25 10:58:25+03:00  9410  1173          5\n",
      "9998    52003 2019-05-25 10:58:25+03:00  9410  1173          5\n",
      "9999    52535 2019-05-25 10:58:25+03:00  2736   145          5\n",
      "\n",
      "[10000 rows x 5 columns]\n"
     ]
    }
   ],
   "source": [
    "database['kuukaudet'] = database.timestamp.dt.month\n",
    "print(database)"
   ]
  },
  {
   "cell_type": "code",
   "execution_count": null,
   "metadata": {},
   "outputs": [],
   "source": [
    "\n"
   ]
  },
  {
   "cell_type": "code",
   "execution_count": null,
   "metadata": {},
   "outputs": [],
   "source": []
  },
  {
   "cell_type": "code",
   "execution_count": 38,
   "metadata": {},
   "outputs": [],
   "source": []
  },
  {
   "cell_type": "code",
   "execution_count": 39,
   "metadata": {},
   "outputs": [],
   "source": []
  },
  {
   "cell_type": "code",
   "execution_count": 44,
   "metadata": {},
   "outputs": [],
   "source": []
  },
  {
   "cell_type": "code",
   "execution_count": 45,
   "metadata": {},
   "outputs": [
    {
     "data": {
      "application/vnd.jupyter.widget-view+json": {
       "model_id": "e66d9de13b0d4c9480c4794579fdab07",
       "version_major": 2,
       "version_minor": 0
      },
      "text/plain": [
       "interactive(children=(IntSlider(value=14, description='aika', max=21, min=8), Output()), _dom_classes=('widget…"
      ]
     },
     "metadata": {},
     "output_type": "display_data"
    },
    {
     "data": {
      "text/plain": [
       "<function __main__.f(aika)>"
      ]
     },
     "execution_count": 45,
     "metadata": {},
     "output_type": "execute_result"
    }
   ],
   "source": [
    "interact(f, aika=(8,21))"
   ]
  },
  {
   "cell_type": "code",
   "execution_count": null,
   "metadata": {},
   "outputs": [],
   "source": []
  },
  {
   "cell_type": "code",
   "execution_count": null,
   "metadata": {},
   "outputs": [],
   "source": []
  },
  {
   "cell_type": "code",
   "execution_count": null,
   "metadata": {},
   "outputs": [],
   "source": []
  },
  {
   "cell_type": "code",
   "execution_count": null,
   "metadata": {},
   "outputs": [],
   "source": []
  },
  {
   "cell_type": "code",
   "execution_count": null,
   "metadata": {},
   "outputs": [],
   "source": []
  },
  {
   "cell_type": "code",
   "execution_count": null,
   "metadata": {},
   "outputs": [],
   "source": []
  },
  {
   "cell_type": "code",
   "execution_count": null,
   "metadata": {},
   "outputs": [],
   "source": []
  },
  {
   "cell_type": "code",
   "execution_count": null,
   "metadata": {},
   "outputs": [],
   "source": []
  },
  {
   "cell_type": "code",
   "execution_count": null,
   "metadata": {},
   "outputs": [],
   "source": []
  },
  {
   "cell_type": "code",
   "execution_count": null,
   "metadata": {},
   "outputs": [],
   "source": []
  },
  {
   "cell_type": "code",
   "execution_count": null,
   "metadata": {},
   "outputs": [],
   "source": []
  },
  {
   "cell_type": "code",
   "execution_count": null,
   "metadata": {},
   "outputs": [],
   "source": []
  },
  {
   "cell_type": "code",
   "execution_count": null,
   "metadata": {},
   "outputs": [],
   "source": []
  },
  {
   "cell_type": "code",
   "execution_count": null,
   "metadata": {},
   "outputs": [],
   "source": []
  },
  {
   "cell_type": "code",
   "execution_count": null,
   "metadata": {},
   "outputs": [],
   "source": []
  },
  {
   "cell_type": "code",
   "execution_count": null,
   "metadata": {},
   "outputs": [],
   "source": []
  },
  {
   "cell_type": "code",
   "execution_count": null,
   "metadata": {},
   "outputs": [],
   "source": []
  },
  {
   "cell_type": "code",
   "execution_count": null,
   "metadata": {},
   "outputs": [],
   "source": []
  },
  {
   "cell_type": "code",
   "execution_count": null,
   "metadata": {},
   "outputs": [],
   "source": []
  },
  {
   "cell_type": "code",
   "execution_count": null,
   "metadata": {},
   "outputs": [],
   "source": []
  },
  {
   "cell_type": "code",
   "execution_count": null,
   "metadata": {},
   "outputs": [],
   "source": []
  },
  {
   "cell_type": "code",
   "execution_count": null,
   "metadata": {},
   "outputs": [],
   "source": []
  }
 ],
 "metadata": {
  "kernelspec": {
   "display_name": "Python 3",
   "language": "python",
   "name": "python3"
  },
  "language_info": {
   "codemirror_mode": {
    "name": "ipython",
    "version": 3
   },
   "file_extension": ".py",
   "mimetype": "text/x-python",
   "name": "python",
   "nbconvert_exporter": "python",
   "pygments_lexer": "ipython3",
   "version": "3.7.6"
  }
 },
 "nbformat": 4,
 "nbformat_minor": 4
}
