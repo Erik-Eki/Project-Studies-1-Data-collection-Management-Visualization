{
 "cells": [
  {
   "cell_type": "code",
   "execution_count": 314,
   "metadata": {},
   "outputs": [
    {
     "name": "stdout",
     "output_type": "stream",
     "text": [
      "Requirement already satisfied: mysql-connector in /opt/conda/lib/python3.7/site-packages (2.2.9)\n"
     ]
    }
   ],
   "source": [
    "# Run this code if you get errors with missing requirements\n",
    "import sys\n",
    "!{sys.executable} -m pip install mysql-connector\n",
    "\n",
    "import pandas as pd\n",
    "import mysql.connector\n",
    "\n",
    "mydb = mysql.connector.connect(\n",
    "  host=\"iiwari-mariadb-server\",\n",
    "  user=\"root\",\n",
    "  passwd=\"d41k4Duu\",\n",
    "  database=\"iiwari_org\"\n",
    ")\n"
   ]
  },
  {
   "cell_type": "markdown",
   "metadata": {},
   "source": [
    "# Leikataan X arvoa hieman enemmä että latausasemat ei vaikuta ruuhkaan"
   ]
  },
  {
   "cell_type": "code",
   "execution_count": 315,
   "metadata": {},
   "outputs": [
    {
     "name": "stdout",
     "output_type": "stream",
     "text": [
      "       node_id                            timestamp     x     y\n",
      "0        51735  b'2019-05-28 04:00:10.995581+00:00'  7639  2379\n",
      "1        51735  b'2019-05-28 04:00:11.995528+00:00'  7639  2379\n",
      "2        51735  b'2019-05-28 04:00:12.995463+00:00'  7635  2381\n",
      "3        51735  b'2019-05-28 04:00:13.995619+00:00'  7635  2381\n",
      "4        51735  b'2019-05-28 04:00:14.995508+00:00'  7635  2382\n",
      "...        ...                                  ...   ...   ...\n",
      "70441    51719   b'2019-05-28 17:11:57.98686+00:00'  1325  1299\n",
      "70442    51719  b'2019-05-28 17:11:58.986779+00:00'  1233  1332\n",
      "70443    51719  b'2019-05-28 17:11:59.987244+00:00'  1102  1409\n",
      "70444    51719  b'2019-05-28 17:12:00.986703+00:00'  1030  1425\n",
      "70445    51719  b'2019-05-28 19:10:19.987829+00:00'  1675  2662\n",
      "\n",
      "[70446 rows x 4 columns]\n"
     ]
    }
   ],
   "source": [
    "mycursor = mydb.cursor(dictionary=True)\n",
    "mycursor.execute(\"SELECT node_id, timestamp, x, y FROM SensorData WHERE timestamp > '2019-05-28 04:00:08.078133+00:00' AND timestamp < '2019-05-28 20:00:08.078133+00:00'  AND x > 1000  AND X < 10406 AND y < 5220 AND y > 0  AND z = 0\");\n",
    "database = pd.DataFrame(mycursor.fetchall())\n",
    "print(database)"
   ]
  },
  {
   "cell_type": "markdown",
   "metadata": {},
   "source": [
    "# Tehdään uusi taulu ja laitetaan sinne node_id."
   ]
  },
  {
   "cell_type": "code",
   "execution_count": 316,
   "metadata": {},
   "outputs": [
    {
     "name": "stdout",
     "output_type": "stream",
     "text": [
      "       node_id\n",
      "0        51735\n",
      "1        51735\n",
      "2        51735\n",
      "3        51735\n",
      "4        51735\n",
      "...        ...\n",
      "70441    51719\n",
      "70442    51719\n",
      "70443    51719\n",
      "70444    51719\n",
      "70445    51719\n",
      "\n",
      "[70446 rows x 1 columns]\n"
     ]
    }
   ],
   "source": [
    "\n",
    "nodes = pd.DataFrame()\n",
    "\n",
    "nodes['node_id'] = database['node_id']\n",
    "\n",
    "print(nodes)\n"
   ]
  },
  {
   "cell_type": "markdown",
   "metadata": {},
   "source": [
    "# Laitetaan timestamppi tauluun ja poistetaan siitä turhat"
   ]
  },
  {
   "cell_type": "code",
   "execution_count": 317,
   "metadata": {},
   "outputs": [
    {
     "name": "stdout",
     "output_type": "stream",
     "text": [
      "       node_id                   timestamp\n",
      "0        51735  2019-05-28 04:00:10.995581\n",
      "1        51735  2019-05-28 04:00:11.995528\n",
      "2        51735  2019-05-28 04:00:12.995463\n",
      "3        51735  2019-05-28 04:00:13.995619\n",
      "4        51735  2019-05-28 04:00:14.995508\n",
      "...        ...                         ...\n",
      "70441    51719   2019-05-28 17:11:57.98686\n",
      "70442    51719  2019-05-28 17:11:58.986779\n",
      "70443    51719  2019-05-28 17:11:59.987244\n",
      "70444    51719  2019-05-28 17:12:00.986703\n",
      "70445    51719  2019-05-28 19:10:19.987829\n",
      "\n",
      "[70446 rows x 2 columns]\n"
     ]
    }
   ],
   "source": [
    "nodes['timestamp'] = database['timestamp'].astype(str)\n",
    "nodes['timestamp'] = nodes['timestamp'].str.slice(2, -7)\n",
    "print(nodes)"
   ]
  },
  {
   "cell_type": "markdown",
   "metadata": {},
   "source": [
    "# Muutetaan timestamp datetime64 muotoon ja pyörristetään tunnin tarkkuudelle"
   ]
  },
  {
   "cell_type": "code",
   "execution_count": 318,
   "metadata": {},
   "outputs": [
    {
     "name": "stdout",
     "output_type": "stream",
     "text": [
      "       node_id           timestamp\n",
      "0        51735 2019-05-28 04:00:00\n",
      "1        51735 2019-05-28 04:00:00\n",
      "2        51735 2019-05-28 04:00:00\n",
      "3        51735 2019-05-28 04:00:00\n",
      "4        51735 2019-05-28 04:00:00\n",
      "...        ...                 ...\n",
      "70441    51719 2019-05-28 17:00:00\n",
      "70442    51719 2019-05-28 17:00:00\n",
      "70443    51719 2019-05-28 17:00:00\n",
      "70444    51719 2019-05-28 17:00:00\n",
      "70445    51719 2019-05-28 19:00:00\n",
      "\n",
      "[70446 rows x 2 columns]\n"
     ]
    }
   ],
   "source": [
    "nodes['timestamp'] = nodes['timestamp'].astype('datetime64[ns]')\n",
    "nodes['timestamp'] = pd.Series(nodes['timestamp']).dt.round(\"H\")\n",
    "print(nodes)"
   ]
  },
  {
   "cell_type": "markdown",
   "metadata": {},
   "source": [
    "# Tehdään timestampeista indexejä ja poistetaan entinen timestamp \n"
   ]
  },
  {
   "cell_type": "code",
   "execution_count": 319,
   "metadata": {},
   "outputs": [
    {
     "name": "stdout",
     "output_type": "stream",
     "text": [
      "                     node_id\n",
      "timestamp                   \n",
      "2019-05-28 04:00:00    51735\n",
      "2019-05-28 04:00:00    51735\n",
      "2019-05-28 04:00:00    51735\n",
      "2019-05-28 04:00:00    51735\n",
      "2019-05-28 04:00:00    51735\n",
      "...                      ...\n",
      "2019-05-28 17:00:00    51719\n",
      "2019-05-28 17:00:00    51719\n",
      "2019-05-28 17:00:00    51719\n",
      "2019-05-28 17:00:00    51719\n",
      "2019-05-28 19:00:00    51719\n",
      "\n",
      "[70446 rows x 1 columns]\n"
     ]
    }
   ],
   "source": [
    "nodes.index = nodes['timestamp']\n",
    "\n",
    "nodes = nodes.drop('timestamp', axis=1)\n",
    "print(nodes)\n"
   ]
  },
  {
   "cell_type": "markdown",
   "metadata": {},
   "source": [
    "# Lasketaan kaikki samat tuntimäärät yhteen"
   ]
  },
  {
   "cell_type": "code",
   "execution_count": 320,
   "metadata": {},
   "outputs": [
    {
     "name": "stdout",
     "output_type": "stream",
     "text": [
      "                     node_id\n",
      "timestamp                   \n",
      "2019-05-28 04:00:00     1287\n",
      "2019-05-28 05:00:00      114\n",
      "2019-05-28 06:00:00        0\n",
      "2019-05-28 07:00:00     4084\n",
      "2019-05-28 08:00:00     5430\n",
      "2019-05-28 09:00:00     6564\n",
      "2019-05-28 10:00:00     7311\n",
      "2019-05-28 11:00:00     7743\n",
      "2019-05-28 12:00:00    13045\n",
      "2019-05-28 13:00:00     8851\n",
      "2019-05-28 14:00:00     4796\n",
      "2019-05-28 15:00:00     1967\n",
      "2019-05-28 16:00:00     8040\n",
      "2019-05-28 17:00:00     1213\n",
      "2019-05-28 18:00:00        0\n",
      "2019-05-28 19:00:00        1\n"
     ]
    }
   ],
   "source": [
    "nodes = nodes.resample('H').count()\n",
    "print(nodes)"
   ]
  },
  {
   "cell_type": "markdown",
   "metadata": {},
   "source": [
    "# Tehdään 'esiintyvyysprosentti' dataframeen"
   ]
  },
  {
   "cell_type": "code",
   "execution_count": 321,
   "metadata": {},
   "outputs": [
    {
     "name": "stdout",
     "output_type": "stream",
     "text": [
      "                     node_id  esintyvyysprosentti\n",
      "timestamp                                        \n",
      "2019-05-28 04:00:00     1287             1.826931\n",
      "2019-05-28 05:00:00      114             0.161826\n",
      "2019-05-28 06:00:00        0             0.000000\n",
      "2019-05-28 07:00:00     4084             5.797348\n",
      "2019-05-28 08:00:00     5430             7.708032\n",
      "2019-05-28 09:00:00     6564             9.317775\n",
      "2019-05-28 10:00:00     7311            10.378162\n",
      "2019-05-28 11:00:00     7743            10.991398\n",
      "2019-05-28 12:00:00    13045            18.517730\n",
      "2019-05-28 13:00:00     8851            12.564234\n",
      "2019-05-28 14:00:00     4796             6.808052\n",
      "2019-05-28 15:00:00     1967             2.792210\n",
      "2019-05-28 16:00:00     8040            11.412997\n",
      "2019-05-28 17:00:00     1213             1.721886\n",
      "2019-05-28 18:00:00        0             0.000000\n",
      "2019-05-28 19:00:00        1             0.001420\n"
     ]
    }
   ],
   "source": [
    "nodes['esintyvyysprosentti'] = 100 * (nodes['node_id'] / nodes['node_id'].sum())\n",
    "print(nodes)\n"
   ]
  },
  {
   "cell_type": "markdown",
   "metadata": {},
   "source": [
    "# Poistetaan vuodet, kuukaudet ja päivät index-timestampista, lisätään se otsikkoon seuraavassa vaiheessa"
   ]
  },
  {
   "cell_type": "code",
   "execution_count": 322,
   "metadata": {},
   "outputs": [
    {
     "name": "stdout",
     "output_type": "stream",
     "text": [
      "           node_id  esintyvyysprosentti\n",
      "timestamp                              \n",
      " 04           1287             1.826931\n",
      " 05            114             0.161826\n",
      " 06              0             0.000000\n",
      " 07           4084             5.797348\n",
      " 08           5430             7.708032\n",
      " 09           6564             9.317775\n",
      " 10           7311            10.378162\n",
      " 11           7743            10.991398\n",
      " 12          13045            18.517730\n",
      " 13           8851            12.564234\n",
      " 14           4796             6.808052\n",
      " 15           1967             2.792210\n",
      " 16           8040            11.412997\n",
      " 17           1213             1.721886\n",
      " 18              0             0.000000\n",
      " 19              1             0.001420\n"
     ]
    }
   ],
   "source": [
    "nodes.index = nodes.index.astype(str)\n",
    "nodes.index = nodes.index.str.slice(10, -6)\n",
    "print(nodes)"
   ]
  },
  {
   "cell_type": "markdown",
   "metadata": {},
   "source": [
    "# Muutetaan indexi numeraaliseksi ja lisätään aikavyöhykkeen takia +2 jokaiseen"
   ]
  },
  {
   "cell_type": "code",
   "execution_count": 323,
   "metadata": {},
   "outputs": [
    {
     "name": "stdout",
     "output_type": "stream",
     "text": [
      "           node_id  esintyvyysprosentti\n",
      "timestamp                              \n",
      "6             1287             1.826931\n",
      "7              114             0.161826\n",
      "8                0             1.826931\n",
      "9             4084             0.161826\n",
      "10            5430             0.000000\n",
      "11            6564             5.797348\n",
      "12            7311             7.708032\n",
      "13            7743             9.317775\n",
      "14           13045            10.378162\n",
      "15            8851            10.991398\n",
      "16            4796            18.517730\n",
      "17            1967            12.564234\n",
      "18            8040             6.808052\n",
      "19            1213             2.792210\n",
      "20               0            11.412997\n",
      "21               1             1.721886\n"
     ]
    }
   ],
   "source": [
    "nodes.index = nodes.index.astype(int)\n",
    "nodes.index = nodes.index + 2\n",
    "\n",
    "# Testaan... Pitäis varmaa paremmalla tavalla saada muutettua nämäkin\n",
    "nodes['esintyvyysprosentti'].values[15] = nodes['esintyvyysprosentti'].values[13]\n",
    "nodes['esintyvyysprosentti'].values[14] = nodes['esintyvyysprosentti'].values[12]\n",
    "nodes['esintyvyysprosentti'].values[13] = nodes['esintyvyysprosentti'].values[11]\n",
    "nodes['esintyvyysprosentti'].values[12] = nodes['esintyvyysprosentti'].values[10]\n",
    "nodes['esintyvyysprosentti'].values[11] = nodes['esintyvyysprosentti'].values[9]\n",
    "nodes['esintyvyysprosentti'].values[10] = nodes['esintyvyysprosentti'].values[8]\n",
    "nodes['esintyvyysprosentti'].values[9]  = nodes['esintyvyysprosentti'].values[7]\n",
    "nodes['esintyvyysprosentti'].values[8]  = nodes['esintyvyysprosentti'].values[6]\n",
    "nodes['esintyvyysprosentti'].values[7]  = nodes['esintyvyysprosentti'].values[5]\n",
    "nodes['esintyvyysprosentti'].values[6]  = nodes['esintyvyysprosentti'].values[4]\n",
    "nodes['esintyvyysprosentti'].values[5]  = nodes['esintyvyysprosentti'].values[3]\n",
    "nodes['esintyvyysprosentti'].values[4]  = nodes['esintyvyysprosentti'].values[2] \n",
    "nodes['esintyvyysprosentti'].values[3]  = nodes['esintyvyysprosentti'].values[1]\n",
    "nodes['esintyvyysprosentti'].values[2]  = nodes['esintyvyysprosentti'].values[0]\n",
    "\n",
    " \n",
    "print(nodes)"
   ]
  },
  {
   "cell_type": "markdown",
   "metadata": {},
   "source": [
    "# Pudotetaan aukiolon ulkopuolella olevat ajat"
   ]
  },
  {
   "cell_type": "code",
   "execution_count": 324,
   "metadata": {},
   "outputs": [
    {
     "name": "stdout",
     "output_type": "stream",
     "text": [
      "           node_id  esintyvyysprosentti\n",
      "timestamp                              \n",
      "8                0             1.826931\n",
      "9             4084             0.161826\n",
      "10            5430             0.000000\n",
      "11            6564             5.797348\n",
      "12            7311             7.708032\n",
      "13            7743             9.317775\n",
      "14           13045            10.378162\n",
      "15            8851            10.991398\n",
      "16            4796            18.517730\n",
      "17            1967            12.564234\n",
      "18            8040             6.808052\n",
      "19            1213             2.792210\n",
      "20               0            11.412997\n",
      "21               1             1.721886\n"
     ]
    }
   ],
   "source": [
    "nodes = nodes.drop(index=6)\n",
    "nodes = nodes.drop(index=7)\n",
    "\n",
    "print(nodes)"
   ]
  },
  {
   "cell_type": "markdown",
   "metadata": {},
   "source": [
    "# Plotataan kärryjen prosenttiosuus päivästä tunnettain"
   ]
  },
  {
   "cell_type": "code",
   "execution_count": 326,
   "metadata": {},
   "outputs": [
    {
     "data": {
      "text/plain": [
       "Text(0.5, 0, 'Kellonaika')"
      ]
     },
     "execution_count": 326,
     "metadata": {},
     "output_type": "execute_result"
    },
    {
     "data": {
      "image/png": "[encoded data removed]",
      "text/plain": [
       "<Figure size 432x288 with 1 Axes>"
      ]
     },
     "metadata": {
      "needs_background": "light"
     },
     "output_type": "display_data"
    }
   ],
   "source": [
    "import pylab as plt\n",
    "\n",
    "nodes.groupby(\"timestamp\").esintyvyysprosentti.mean().plot.bar(title='Kärryjen esiintyminen tunnettain 2019-05-28')\n",
    "plt.ylabel('Kärryjen prosenttiosuus päivästä')\n",
    "plt.xlabel('Kellonaika')\n"
   ]
  },
  {
   "cell_type": "code",
   "execution_count": null,
   "metadata": {},
   "outputs": [],
   "source": []
  },
  {
   "cell_type": "code",
   "execution_count": null,
   "metadata": {},
   "outputs": [],
   "source": []
  }
 ],
 "metadata": {
  "kernelspec": {
   "display_name": "Python 3",
   "language": "python",
   "name": "python3"
  },
  "language_info": {
   "codemirror_mode": {
    "name": "ipython",
    "version": 3
   },
   "file_extension": ".py",
   "mimetype": "text/x-python",
   "name": "python",
   "nbconvert_exporter": "python",
   "pygments_lexer": "ipython3",
   "version": "3.7.6"
  }
 },
 "nbformat": 4,
 "nbformat_minor": 4
}
