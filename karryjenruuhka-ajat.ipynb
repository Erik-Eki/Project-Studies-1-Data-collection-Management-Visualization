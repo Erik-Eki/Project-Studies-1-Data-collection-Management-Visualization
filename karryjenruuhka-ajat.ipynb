{
 "cells": [
  {
   "cell_type": "code",
   "execution_count": 3,
   "metadata": {},
   "outputs": [
    {
     "name": "stdout",
     "output_type": "stream",
     "text": [
      "Requirement already satisfied: mysql-connector in /opt/conda/lib/python3.7/site-packages (2.2.9)\n"
     ]
    }
   ],
   "source": [
    "# Run this code if you get errors with missing requirements\n",
    "import sys\n",
    "!{sys.executable} -m pip install mysql-connector\n",
    "\n",
    "import pandas as pd\n",
    "import mysql.connector\n",
    "\n",
    "mydb = mysql.connector.connect(\n",
    "  host=\"iiwari-mariadb-server\",\n",
    "  user=\"root\",\n",
    "  passwd=\"d41k4Duu\",\n",
    "  database=\"iiwari_org\"\n",
    ")\n"
   ]
  },
  {
   "cell_type": "markdown",
   "metadata": {},
   "source": [
    "# Leikataan X arvoa hieman enemmä että latausasemat ei vaikuta ruuhkaan"
   ]
  },
  {
   "cell_type": "code",
   "execution_count": 10,
   "metadata": {},
   "outputs": [
    {
     "name": "stdout",
     "output_type": "stream",
     "text": [
      "       node_id                            timestamp     x     y\n",
      "0        51735  b'2019-05-28 04:00:10.995581+00:00'  7639  2379\n",
      "1        51735  b'2019-05-28 04:00:11.995528+00:00'  7639  2379\n",
      "2        51735  b'2019-05-28 04:00:12.995463+00:00'  7635  2381\n",
      "3        51735  b'2019-05-28 04:00:13.995619+00:00'  7635  2381\n",
      "4        51735  b'2019-05-28 04:00:14.995508+00:00'  7635  2382\n",
      "...        ...                                  ...   ...   ...\n",
      "70441    51719   b'2019-05-28 17:11:57.98686+00:00'  1325  1299\n",
      "70442    51719  b'2019-05-28 17:11:58.986779+00:00'  1233  1332\n",
      "70443    51719  b'2019-05-28 17:11:59.987244+00:00'  1102  1409\n",
      "70444    51719  b'2019-05-28 17:12:00.986703+00:00'  1030  1425\n",
      "70445    51719  b'2019-05-28 19:10:19.987829+00:00'  1675  2662\n",
      "\n",
      "[70446 rows x 4 columns]\n"
     ]
    }
   ],
   "source": [
    "mycursor = mydb.cursor(dictionary=True)\n",
    "mycursor.execute(\"SELECT node_id, timestamp, x, y FROM SensorData WHERE timestamp > '2019-05-28 04:00:08.078133+00:00' AND timestamp < '2019-05-28 20:00:08.078133+00:00'  AND x > 1000  AND X < 10406 AND y < 5220 AND y > 0  AND z = 0\");\n",
    "database = pd.DataFrame(mycursor.fetchall())\n",
    "print(database)"
   ]
  },
  {
   "cell_type": "markdown",
   "metadata": {},
   "source": [
    "# Tehdään uusi taulu ja laitetaan sinne node_id."
   ]
  },
  {
   "cell_type": "code",
   "execution_count": 11,
   "metadata": {},
   "outputs": [
    {
     "name": "stdout",
     "output_type": "stream",
     "text": [
      "       node_id\n",
      "0        51735\n",
      "1        51735\n",
      "2        51735\n",
      "3        51735\n",
      "4        51735\n",
      "...        ...\n",
      "70441    51719\n",
      "70442    51719\n",
      "70443    51719\n",
      "70444    51719\n",
      "70445    51719\n",
      "\n",
      "[70446 rows x 1 columns]\n"
     ]
    }
   ],
   "source": [
    "\n",
    "nodes = pd.DataFrame()\n",
    "\n",
    "nodes['node_id'] = database['node_id']\n",
    "\n",
    "print(nodes)\n"
   ]
  },
  {
   "cell_type": "markdown",
   "metadata": {},
   "source": [
    "# Laitetaan timestamppi tauluun ja poistetaan siitä turhat. Kesä- ja talviajan huomiointi"
   ]
  },
  {
   "cell_type": "code",
   "execution_count": 12,
   "metadata": {},
   "outputs": [
    {
     "name": "stdout",
     "output_type": "stream",
     "text": [
      "       node_id                 timestamp\n",
      "0        51735 2019-05-28 07:00:10+03:00\n",
      "1        51735 2019-05-28 07:00:11+03:00\n",
      "2        51735 2019-05-28 07:00:12+03:00\n",
      "3        51735 2019-05-28 07:00:13+03:00\n",
      "4        51735 2019-05-28 07:00:14+03:00\n",
      "...        ...                       ...\n",
      "70441    51719 2019-05-28 20:11:57+03:00\n",
      "70442    51719 2019-05-28 20:11:58+03:00\n",
      "70443    51719 2019-05-28 20:11:59+03:00\n",
      "70444    51719 2019-05-28 20:12:00+03:00\n",
      "70445    51719 2019-05-28 22:10:19+03:00\n",
      "\n",
      "[70446 rows x 2 columns]\n"
     ]
    }
   ],
   "source": [
    "database['timestamp'] = database['timestamp'].astype('str')\n",
    "database['timestamp'] = database['timestamp'].str.rstrip(\"'+00:00'\")\n",
    "database['timestamp'] = database['timestamp'].str.lstrip(\"b'\")\n",
    "database['timestamp'] = database['timestamp'].astype('datetime64[s]')\n",
    "\n",
    "database.timestamp = database.timestamp.dt.tz_localize('UTC')\n",
    "database.timestamp = database.timestamp.dt.tz_convert('Europe/Helsinki')\n",
    "\n",
    "nodes['timestamp'] = database['timestamp']\n",
    "print(nodes)"
   ]
  },
  {
   "cell_type": "markdown",
   "metadata": {},
   "source": [
    "\n",
    "### Pudotetaan aukiolon ulkopuolella olevat ajat"
   ]
  },
  {
   "cell_type": "code",
   "execution_count": 13,
   "metadata": {},
   "outputs": [
    {
     "name": "stdout",
     "output_type": "stream",
     "text": [
      "       node_id                 timestamp\n",
      "1400     51850 2019-05-28 08:12:54+03:00\n",
      "1401      3224 2019-05-28 09:35:43+03:00\n",
      "1402      3224 2019-05-28 09:35:44+03:00\n",
      "1403      3224 2019-05-28 09:35:45+03:00\n",
      "1404      3224 2019-05-28 09:35:46+03:00\n",
      "...        ...                       ...\n",
      "70440    51719 2019-05-28 20:11:56+03:00\n",
      "70441    51719 2019-05-28 20:11:57+03:00\n",
      "70442    51719 2019-05-28 20:11:58+03:00\n",
      "70443    51719 2019-05-28 20:11:59+03:00\n",
      "70444    51719 2019-05-28 20:12:00+03:00\n",
      "\n",
      "[69045 rows x 2 columns]\n"
     ]
    }
   ],
   "source": [
    "\n",
    "\n",
    "nodes = nodes.drop(nodes[(nodes.timestamp.dt.hour > 21)].index)\n",
    "nodes = nodes.drop(nodes[(nodes.timestamp.dt.hour < 8)].index)\n",
    "\n",
    "print(nodes)"
   ]
  },
  {
   "cell_type": "markdown",
   "metadata": {},
   "source": [
    "# Tehdään timestampeista indexejä ja poistetaan entinen timestamp \n"
   ]
  },
  {
   "cell_type": "code",
   "execution_count": 14,
   "metadata": {},
   "outputs": [
    {
     "name": "stdout",
     "output_type": "stream",
     "text": [
      "                           node_id\n",
      "timestamp                         \n",
      "2019-05-28 08:12:54+03:00    51850\n",
      "2019-05-28 09:35:43+03:00     3224\n",
      "2019-05-28 09:35:44+03:00     3224\n",
      "2019-05-28 09:35:45+03:00     3224\n",
      "2019-05-28 09:35:46+03:00     3224\n",
      "...                            ...\n",
      "2019-05-28 20:11:56+03:00    51719\n",
      "2019-05-28 20:11:57+03:00    51719\n",
      "2019-05-28 20:11:58+03:00    51719\n",
      "2019-05-28 20:11:59+03:00    51719\n",
      "2019-05-28 20:12:00+03:00    51719\n",
      "\n",
      "[69045 rows x 1 columns]\n"
     ]
    }
   ],
   "source": [
    "nodes.index = nodes['timestamp']\n",
    "\n",
    "nodes = nodes.drop('timestamp', axis=1)\n",
    "print(nodes)\n"
   ]
  },
  {
   "cell_type": "markdown",
   "metadata": {},
   "source": [
    "# Lasketaan kaikki samat tuntimäärät yhteen"
   ]
  },
  {
   "cell_type": "code",
   "execution_count": 15,
   "metadata": {},
   "outputs": [
    {
     "name": "stdout",
     "output_type": "stream",
     "text": [
      "                           node_id\n",
      "timestamp                         \n",
      "2019-05-28 08:00:00+03:00        1\n",
      "2019-05-28 09:00:00+03:00     3997\n",
      "2019-05-28 10:00:00+03:00     1952\n",
      "2019-05-28 11:00:00+03:00     5583\n",
      "2019-05-28 12:00:00+03:00     7399\n",
      "2019-05-28 13:00:00+03:00     9620\n",
      "2019-05-28 14:00:00+03:00     9789\n",
      "2019-05-28 15:00:00+03:00    10329\n",
      "2019-05-28 16:00:00+03:00     7847\n",
      "2019-05-28 17:00:00+03:00     2273\n",
      "2019-05-28 18:00:00+03:00     6116\n",
      "2019-05-28 19:00:00+03:00     3368\n",
      "2019-05-28 20:00:00+03:00      771\n"
     ]
    }
   ],
   "source": [
    "nodes = nodes.resample('H').count()\n",
    "print(nodes)"
   ]
  },
  {
   "cell_type": "markdown",
   "metadata": {},
   "source": [
    "# Tehdään 'esiintyvyysprosentti' dataframeen"
   ]
  },
  {
   "cell_type": "code",
   "execution_count": 16,
   "metadata": {},
   "outputs": [
    {
     "name": "stdout",
     "output_type": "stream",
     "text": [
      "                           node_id  esintyvyysprosentti\n",
      "timestamp                                              \n",
      "2019-05-28 08:00:00+03:00        1             0.001448\n",
      "2019-05-28 09:00:00+03:00     3997             5.788978\n",
      "2019-05-28 10:00:00+03:00     1952             2.827142\n",
      "2019-05-28 11:00:00+03:00     5583             8.086031\n",
      "2019-05-28 12:00:00+03:00     7399            10.716200\n",
      "2019-05-28 13:00:00+03:00     9620            13.932942\n",
      "2019-05-28 14:00:00+03:00     9789            14.177710\n",
      "2019-05-28 15:00:00+03:00    10329            14.959809\n",
      "2019-05-28 16:00:00+03:00     7847            11.365052\n",
      "2019-05-28 17:00:00+03:00     2273             3.292056\n",
      "2019-05-28 18:00:00+03:00     6116             8.857991\n",
      "2019-05-28 19:00:00+03:00     3368             4.877978\n",
      "2019-05-28 20:00:00+03:00      771             1.116663\n"
     ]
    }
   ],
   "source": [
    "nodes['esintyvyysprosentti'] = 100 * (nodes['node_id'] / nodes['node_id'].sum())\n",
    "print(nodes)\n"
   ]
  },
  {
   "cell_type": "markdown",
   "metadata": {},
   "source": [
    "# Poistetaan vuodet, kuukaudet ja päivät index-timestampista, lisätään se otsikkoon seuraavassa vaiheessa"
   ]
  },
  {
   "cell_type": "code",
   "execution_count": 17,
   "metadata": {},
   "outputs": [
    {
     "name": "stdout",
     "output_type": "stream",
     "text": [
      "           node_id  esintyvyysprosentti\n",
      "timestamp                              \n",
      " 08:00:00        1             0.001448\n",
      " 09:00:00     3997             5.788978\n",
      " 10:00:00     1952             2.827142\n",
      " 11:00:00     5583             8.086031\n",
      " 12:00:00     7399            10.716200\n",
      " 13:00:00     9620            13.932942\n",
      " 14:00:00     9789            14.177710\n",
      " 15:00:00    10329            14.959809\n",
      " 16:00:00     7847            11.365052\n",
      " 17:00:00     2273             3.292056\n",
      " 18:00:00     6116             8.857991\n",
      " 19:00:00     3368             4.877978\n",
      " 20:00:00      771             1.116663\n"
     ]
    }
   ],
   "source": [
    "nodes.index = nodes.index.astype(str)\n",
    "nodes.index = nodes.index.str.slice(10, -6)\n",
    "print(nodes)"
   ]
  },
  {
   "cell_type": "markdown",
   "metadata": {},
   "source": [
    "# Plotataan kärryjen prosenttiosuus päivästä tunnettain"
   ]
  },
  {
   "cell_type": "code",
   "execution_count": 18,
   "metadata": {},
   "outputs": [
    {
     "data": {
      "text/plain": [
       "Text(0.5, 0, 'Kellonaika')"
      ]
     },
     "execution_count": 18,
     "metadata": {},
     "output_type": "execute_result"
    },
    {
     "data": {
      "image/png": "[encoded data removed]",
      "text/plain": [
       "<Figure size 432x288 with 1 Axes>"
      ]
     },
     "metadata": {
      "needs_background": "light"
     },
     "output_type": "display_data"
    }
   ],
   "source": [
    "import pylab as plt\n",
    "\n",
    "nodes.groupby(\"timestamp\").esintyvyysprosentti.mean().plot.bar(title='Kärryjen esiintyminen tunnettain' + str(database.timestamp.dt.date.iloc[0]))\n",
    "plt.ylabel('Kärryjen prosenttiosuus päivästä')\n",
    "plt.xlabel('Kellonaika')\n"
   ]
  },
  {
   "cell_type": "code",
   "execution_count": null,
   "metadata": {},
   "outputs": [],
   "source": []
  },
  {
   "cell_type": "code",
   "execution_count": null,
   "metadata": {},
   "outputs": [],
   "source": []
  }
 ],
 "metadata": {
  "kernelspec": {
   "display_name": "Python 3",
   "language": "python",
   "name": "python3"
  },
  "language_info": {
   "codemirror_mode": {
    "name": "ipython",
    "version": 3
   },
   "file_extension": ".py",
   "mimetype": "text/x-python",
   "name": "python",
   "nbconvert_exporter": "python",
   "pygments_lexer": "ipython3",
   "version": "3.7.6"
  }
 },
 "nbformat": 4,
 "nbformat_minor": 4
}
