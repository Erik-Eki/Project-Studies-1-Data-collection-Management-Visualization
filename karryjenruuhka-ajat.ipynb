{
 "cells": [
  {
   "cell_type": "code",
   "execution_count": 113,
   "metadata": {},
   "outputs": [
    {
     "name": "stdout",
     "output_type": "stream",
     "text": [
      "Requirement already satisfied: mysql-connector in /opt/conda/lib/python3.7/site-packages (2.2.9)\n"
     ]
    }
   ],
   "source": [
    "# Run this code if you get errors with missing requirements\n",
    "import sys\n",
    "!{sys.executable} -m pip install mysql-connector\n",
    "\n",
    "import pandas as pd\n",
    "import mysql.connector\n",
    "\n",
    "mydb = mysql.connector.connect(\n",
    "  host=\"iiwari-mariadb-server\",\n",
    "  user=\"root\",\n",
    "  passwd=\"d41k4Duu\",\n",
    "  database=\"iiwari_org\"\n",
    ")\n"
   ]
  },
  {
   "cell_type": "markdown",
   "metadata": {},
   "source": [
    "# Leikataan X arvoa hieman enemmä että latausasemat ei vaikuta ruuhkaan"
   ]
  },
  {
   "cell_type": "code",
   "execution_count": 114,
   "metadata": {},
   "outputs": [
    {
     "name": "stdout",
     "output_type": "stream",
     "text": [
      "       node_id                            timestamp     x     y\n",
      "0        51889    b'2019-05-24 06:09:01.9878+00:00'  1206  2758\n",
      "1        51889  b'2019-05-24 06:09:02.990417+00:00'  1266  2762\n",
      "2        51889  b'2019-05-24 06:09:03.991372+00:00'  1502  2777\n",
      "3        51889  b'2019-05-24 06:09:03.991378+00:00'  1502  2777\n",
      "4        51889  b'2019-05-24 06:09:04.989675+00:00'  1705  2782\n",
      "...        ...                                  ...   ...   ...\n",
      "27135    51976  b'2019-05-24 17:45:33.987279+00:00'  1314   990\n",
      "27136    51976  b'2019-05-24 17:45:34.986704+00:00'  1277   975\n",
      "27137    51976  b'2019-05-24 17:45:34.986739+00:00'  1277   975\n",
      "27138    51976  b'2019-05-24 17:45:35.987003+00:00'  1234   970\n",
      "27139    51976  b'2019-05-24 17:45:35.987006+00:00'  1234   970\n",
      "\n",
      "[27140 rows x 4 columns]\n"
     ]
    }
   ],
   "source": [
    "mycursor = mydb.cursor(dictionary=True)\n",
    "mycursor.execute(\"SELECT node_id, timestamp, x, y FROM SensorData WHERE timestamp > '2019-05-24 06:00:08.078133+00:00' AND timestamp < '2019-05-24 23:00:08.078133+00:00'  AND x > 1200  AND X < 10406 AND y < 5220 AND y > 0 AND   q <100 AND z = 0\");\n",
    "database = pd.DataFrame(mycursor.fetchall())\n",
    "print(database)"
   ]
  },
  {
   "cell_type": "markdown",
   "metadata": {},
   "source": [
    "# Tehdään uusi taulu ja laitetaan sinne node_id."
   ]
  },
  {
   "cell_type": "code",
   "execution_count": 115,
   "metadata": {},
   "outputs": [
    {
     "name": "stdout",
     "output_type": "stream",
     "text": [
      "       node_id\n",
      "0        51889\n",
      "1        51889\n",
      "2        51889\n",
      "3        51889\n",
      "4        51889\n",
      "...        ...\n",
      "27135    51976\n",
      "27136    51976\n",
      "27137    51976\n",
      "27138    51976\n",
      "27139    51976\n",
      "\n",
      "[27140 rows x 1 columns]\n"
     ]
    }
   ],
   "source": [
    "\n",
    "nodes = pd.DataFrame()\n",
    "\n",
    "nodes['node_id'] = database['node_id']\n",
    "\n",
    "print(nodes)\n"
   ]
  },
  {
   "cell_type": "markdown",
   "metadata": {},
   "source": [
    "# Laitetaan timestamppi tauluun ja poistetaan siitä turhat"
   ]
  },
  {
   "cell_type": "code",
   "execution_count": 116,
   "metadata": {},
   "outputs": [
    {
     "name": "stdout",
     "output_type": "stream",
     "text": [
      "       node_id                   timestamp\n",
      "0        51889    2019-05-24 06:09:01.9878\n",
      "1        51889  2019-05-24 06:09:02.990417\n",
      "2        51889  2019-05-24 06:09:03.991372\n",
      "3        51889  2019-05-24 06:09:03.991378\n",
      "4        51889  2019-05-24 06:09:04.989675\n",
      "...        ...                         ...\n",
      "27135    51976  2019-05-24 17:45:33.987279\n",
      "27136    51976  2019-05-24 17:45:34.986704\n",
      "27137    51976  2019-05-24 17:45:34.986739\n",
      "27138    51976  2019-05-24 17:45:35.987003\n",
      "27139    51976  2019-05-24 17:45:35.987006\n",
      "\n",
      "[27140 rows x 2 columns]\n"
     ]
    }
   ],
   "source": [
    "nodes['timestamp'] = database['timestamp'].astype(str)\n",
    "nodes['timestamp'] = nodes['timestamp'].str.slice(2, -7)\n",
    "print(nodes)"
   ]
  },
  {
   "cell_type": "markdown",
   "metadata": {},
   "source": [
    "# Muutetaan timestamp datetime64 muotoon ja pyörristetään tunnin tarkkuudelle"
   ]
  },
  {
   "cell_type": "code",
   "execution_count": 117,
   "metadata": {},
   "outputs": [
    {
     "name": "stdout",
     "output_type": "stream",
     "text": [
      "       node_id           timestamp\n",
      "0        51889 2019-05-24 06:00:00\n",
      "1        51889 2019-05-24 06:00:00\n",
      "2        51889 2019-05-24 06:00:00\n",
      "3        51889 2019-05-24 06:00:00\n",
      "4        51889 2019-05-24 06:00:00\n",
      "...        ...                 ...\n",
      "27135    51976 2019-05-24 18:00:00\n",
      "27136    51976 2019-05-24 18:00:00\n",
      "27137    51976 2019-05-24 18:00:00\n",
      "27138    51976 2019-05-24 18:00:00\n",
      "27139    51976 2019-05-24 18:00:00\n",
      "\n",
      "[27140 rows x 2 columns]\n"
     ]
    }
   ],
   "source": [
    "nodes['timestamp'] = nodes['timestamp'].astype('datetime64[ns]')\n",
    "nodes['timestamp'] = pd.Series(nodes['timestamp']).dt.round(\"H\")\n",
    "print(nodes)"
   ]
  },
  {
   "cell_type": "markdown",
   "metadata": {},
   "source": [
    "# Tehdään timestampeista indexejä ja poistetaan entinen timestamp \n"
   ]
  },
  {
   "cell_type": "code",
   "execution_count": 118,
   "metadata": {},
   "outputs": [
    {
     "name": "stdout",
     "output_type": "stream",
     "text": [
      "                     node_id\n",
      "timestamp                   \n",
      "2019-05-24 06:00:00    51889\n",
      "2019-05-24 06:00:00    51889\n",
      "2019-05-24 06:00:00    51889\n",
      "2019-05-24 06:00:00    51889\n",
      "2019-05-24 06:00:00    51889\n",
      "...                      ...\n",
      "2019-05-24 18:00:00    51976\n",
      "2019-05-24 18:00:00    51976\n",
      "2019-05-24 18:00:00    51976\n",
      "2019-05-24 18:00:00    51976\n",
      "2019-05-24 18:00:00    51976\n",
      "\n",
      "[27140 rows x 1 columns]\n"
     ]
    }
   ],
   "source": [
    "nodes.index = nodes['timestamp']\n",
    "\n",
    "nodes = nodes.drop('timestamp', axis=1)\n",
    "print(nodes)\n"
   ]
  },
  {
   "cell_type": "markdown",
   "metadata": {},
   "source": [
    "# Lasketaan kaikki samat tuntimäärät yhteen"
   ]
  },
  {
   "cell_type": "code",
   "execution_count": 119,
   "metadata": {},
   "outputs": [
    {
     "name": "stdout",
     "output_type": "stream",
     "text": [
      "                     node_id\n",
      "timestamp                   \n",
      "2019-05-24 06:00:00     1491\n",
      "2019-05-24 07:00:00      972\n",
      "2019-05-24 08:00:00      777\n",
      "2019-05-24 09:00:00      683\n",
      "2019-05-24 10:00:00     2066\n",
      "2019-05-24 11:00:00     1631\n",
      "2019-05-24 12:00:00      131\n",
      "2019-05-24 13:00:00     2557\n",
      "2019-05-24 14:00:00     1446\n",
      "2019-05-24 15:00:00     2084\n",
      "2019-05-24 16:00:00     6337\n",
      "2019-05-24 17:00:00     5722\n",
      "2019-05-24 18:00:00     1243\n"
     ]
    }
   ],
   "source": [
    "nodes = nodes.resample('H').count()\n",
    "print(nodes)"
   ]
  },
  {
   "cell_type": "markdown",
   "metadata": {},
   "source": [
    "# Tehdään 'esiintyvyysprosentti' dataframeen"
   ]
  },
  {
   "cell_type": "code",
   "execution_count": 120,
   "metadata": {},
   "outputs": [
    {
     "name": "stdout",
     "output_type": "stream",
     "text": [
      "                     node_id  esintyvyysprosentti\n",
      "timestamp                                        \n",
      "2019-05-24 06:00:00     1491             5.493736\n",
      "2019-05-24 07:00:00      972             3.581430\n",
      "2019-05-24 08:00:00      777             2.862933\n",
      "2019-05-24 09:00:00      683             2.516581\n",
      "2019-05-24 10:00:00     2066             7.612380\n",
      "2019-05-24 11:00:00     1631             6.009580\n",
      "2019-05-24 12:00:00      131             0.482682\n",
      "2019-05-24 13:00:00     2557             9.421518\n",
      "2019-05-24 14:00:00     1446             5.327929\n",
      "2019-05-24 15:00:00     2084             7.678703\n",
      "2019-05-24 16:00:00     6337            23.349300\n",
      "2019-05-24 17:00:00     5722            21.083272\n",
      "2019-05-24 18:00:00     1243             4.579956\n"
     ]
    }
   ],
   "source": [
    "nodes['esintyvyysprosentti'] = 100 * (nodes['node_id'] / nodes['node_id'].sum())\n",
    "print(nodes)\n"
   ]
  },
  {
   "cell_type": "markdown",
   "metadata": {},
   "source": [
    "# Poistetaan vuodet, kuukaudet ja päivät index-timestampista, lisätään se otsikkoon seuraavassa vaiheessa"
   ]
  },
  {
   "cell_type": "code",
   "execution_count": 121,
   "metadata": {},
   "outputs": [
    {
     "name": "stdout",
     "output_type": "stream",
     "text": [
      "           node_id  esintyvyysprosentti\n",
      "timestamp                              \n",
      " 06           1491             5.493736\n",
      " 07            972             3.581430\n",
      " 08            777             2.862933\n",
      " 09            683             2.516581\n",
      " 10           2066             7.612380\n",
      " 11           1631             6.009580\n",
      " 12            131             0.482682\n",
      " 13           2557             9.421518\n",
      " 14           1446             5.327929\n",
      " 15           2084             7.678703\n",
      " 16           6337            23.349300\n",
      " 17           5722            21.083272\n",
      " 18           1243             4.579956\n"
     ]
    }
   ],
   "source": [
    "nodes.index = nodes.index.astype(str)\n",
    "nodes.index = nodes.index.str.slice(10, -6)\n",
    "print(nodes)"
   ]
  },
  {
   "cell_type": "markdown",
   "metadata": {},
   "source": [
    "# Plotataan kärryjen prosenttiosuus päivästä tunnettain"
   ]
  },
  {
   "cell_type": "code",
   "execution_count": 122,
   "metadata": {},
   "outputs": [
    {
     "data": {
      "text/plain": [
       "Text(0.5, 0, 'Kellonaika')"
      ]
     },
     "execution_count": 122,
     "metadata": {},
     "output_type": "execute_result"
    },
    {
     "data": {
      "image/png": "[encoded data removed]",
      "text/plain": [
       "<Figure size 432x288 with 1 Axes>"
      ]
     },
     "metadata": {
      "needs_background": "light"
     },
     "output_type": "display_data"
    }
   ],
   "source": [
    "import pylab as plt\n",
    "\n",
    "nodes.groupby(\"timestamp\").esintyvyysprosentti.mean().plot.bar(title='Kärryjen esiintyminen tunnettain 2019-05-24')\n",
    "plt.ylabel('Kärryjen prosenttiosuus päivästä')\n",
    "plt.xlabel('Kellonaika')\n"
   ]
  },
  {
   "cell_type": "code",
   "execution_count": null,
   "metadata": {},
   "outputs": [],
   "source": []
  },
  {
   "cell_type": "code",
   "execution_count": null,
   "metadata": {},
   "outputs": [],
   "source": []
  }
 ],
 "metadata": {
  "kernelspec": {
   "display_name": "Python 3",
   "language": "python",
   "name": "python3"
  },
  "language_info": {
   "codemirror_mode": {
    "name": "ipython",
    "version": 3
   },
   "file_extension": ".py",
   "mimetype": "text/x-python",
   "name": "python",
   "nbconvert_exporter": "python",
   "pygments_lexer": "ipython3",
   "version": "3.7.6"
  }
 },
 "nbformat": 4,
 "nbformat_minor": 4
}
